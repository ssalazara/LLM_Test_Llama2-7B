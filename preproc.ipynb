{
 "cells": [
  {
   "cell_type": "code",
   "execution_count": 1,
   "id": "85e26693-6ac1-4227-9dc7-13e374ae7c5b",
   "metadata": {},
   "outputs": [],
   "source": [
    "import pandas as pd\n",
    "import os"
   ]
  },
  {
   "cell_type": "markdown",
   "id": "6bef5a10-eda0-4b24-9174-b4f66e07aadd",
   "metadata": {},
   "source": [
    "# Cargar 2023, desagregando archivos xlsx por tab"
   ]
  },
  {
   "cell_type": "code",
   "execution_count": 2,
   "id": "c3b81af5-750a-4946-a7eb-5f75dd62d529",
   "metadata": {},
   "outputs": [
    {
     "name": "stdout",
     "output_type": "stream",
     "text": [
      " El volumen de la unidad C es Windows-SSD\n",
      " El n£mero de serie del volumen es: C6BB-7FEF\n",
      "\n",
      " Directorio de C:\\Users\\simon\\Documents\\Tesina\\testLlama\\Repository\n",
      "\n",
      "12-08-2024  20:40    <DIR>          .\n",
      "23-07-2024  21:42    <DIR>          ..\n",
      "12-08-2024  15:07    <DIR>          .ipynb_checkpoints\n",
      "12-08-2024  14:57             1.116 borrador.py\n",
      "23-07-2024  21:41                53 config.json\n",
      "12-08-2024  20:39    <DIR>          csv2023\n",
      "05-08-2024  18:38    <DIR>          Dump\n",
      "05-08-2024  18:14             1.480 main.py\n",
      "12-08-2024  15:36             5.819 notas.md\n",
      "11-08-2024  12:22            15.782 output.csv\n",
      "12-08-2024  20:39            13.818 preproc.ipynb\n",
      "11-08-2024  19:25             2.808 preprocessing.py\n",
      "05-08-2024  18:13             2.739 rag_utils.py\n",
      "24-07-2024  19:58           402.378 RAIDD_testData.csv\n",
      "04-08-2024  22:50             2.933 README.md\n",
      "21-07-2024  22:36                78 requirements.txt\n",
      "05-08-2024  19:09               972 test_3.py\n",
      "08-08-2024  18:32             2.935 test_es.py\n",
      "05-08-2024  18:13    <DIR>          __pycache__\n",
      "              13 archivos        452.911 bytes\n",
      "               6 dirs  189.479.059.456 bytes libres\n"
     ]
    }
   ],
   "source": [
    "!dir"
   ]
  },
  {
   "cell_type": "code",
   "execution_count": 9,
   "id": "beea0a0c-93d9-48b1-bf83-a89e4710be5a",
   "metadata": {},
   "outputs": [
    {
     "data": {
      "text/plain": [
       "'\\nLógica\\n\\nfor file in files:\\n    read xlsx if name have the words \"Tech Planning\"\\n    save each tab as csv with the name of the tab + \\'c\\' as converted\\n\\n'"
      ]
     },
     "execution_count": 9,
     "metadata": {},
     "output_type": "execute_result"
    }
   ],
   "source": [
    "\"\"\"\n",
    "Lógica\n",
    "import pandas as pd\n",
    "import os\n",
    "# Archivos\n",
    "xlsx_files = ['csv2023/2304 - Tech Planning.xlsx', 'csv2023/2305 - Tech Planning.xlsx', 'csv2023/2306 - Tech Planning.xlsx', 'csv2023/2307 - Tech Planning.xlsx', 'csv2023/2308 - Tech Planning.xlsx', 'csv2023/2309 - Tech Planning.xlsx', 'csv2023/2310 - Tech Planning.xlsx', '2023/2311 - Tech Planning.xlsx', 'csv2023/2312 - Tech Planning.xlsx']\n",
    "\n",
    "for file in xlsx_files:\n",
    "    read xlsx if name have the words \"Tech Planning\"\n",
    "    save each tab as csv with the name of the tab + 'c' as converted\n",
    "\n",
    "\"\"\""
   ]
  },
  {
   "cell_type": "code",
   "execution_count": 2,
   "id": "9467c7c5-bdfb-4fa4-9465-9d9f2054dbaa",
   "metadata": {},
   "outputs": [],
   "source": [
    "# Archivos\n",
    "xlsx_files = ['csv2023/2304 - Tech Planning.xlsx', 'csv2023/2305 - Tech Planning.xlsx', 'csv2023/2306 - Tech Planning.xlsx', 'csv2023/2307 - Tech Planning.xlsx', 'csv2023/2308 - Tech Planning.xlsx', 'csv2023/2309 - Tech Planning.xlsx', 'csv2023/2310 - Tech Planning.xlsx', 'csv2023/2311 - Tech Planning.xlsx', 'csv2023/2312 - Tech Planning.xlsx']\n"
   ]
  },
  {
   "cell_type": "code",
   "execution_count": 4,
   "id": "8480ab94-7ebf-4ab6-9a52-192f67b8cf67",
   "metadata": {
    "scrolled": true
   },
   "outputs": [
    {
     "name": "stdout",
     "output_type": "stream",
     "text": [
      "Saved 230425c.csv to the current directory\n",
      "Saved 230418c.csv to the current directory\n",
      "Saved Datac.csv to the current directory\n",
      "Saved 0530c.csv to the current directory\n",
      "Saved 0523c.csv to the current directory\n",
      "Saved 0516c.csv to the current directory\n",
      "Saved 0509c.csv to the current directory\n",
      "Saved 0502c.csv to the current directory\n",
      "Saved Datac.csv to the current directory\n",
      "Saved Current weekc.csv to the current directory\n",
      "Saved 0627c.csv to the current directory\n",
      "Saved 0620c.csv to the current directory\n",
      "Saved 0613c.csv to the current directory\n",
      "Saved 0606c.csv to the current directory\n",
      "Saved Datac.csv to the current directory\n",
      "Saved Current weekc.csv to the current directory\n",
      "Saved 0725c.csv to the current directory\n",
      "Saved 0718c.csv to the current directory\n",
      "Saved 0711c.csv to the current directory\n",
      "Saved 0704c.csv to the current directory\n",
      "Saved 0627c.csv to the current directory\n",
      "Saved Datac.csv to the current directory\n",
      "Saved Current weekc.csv to the current directory\n",
      "Saved 0829c.csv to the current directory\n",
      "Saved 0822c.csv to the current directory\n",
      "Saved 0815c.csv to the current directory\n",
      "Saved 0808c.csv to the current directory\n",
      "Saved 0801c.csv to the current directory\n",
      "Saved 0725c.csv to the current directory\n",
      "Saved Datac.csv to the current directory\n",
      "Saved Current weekc.csv to the current directory\n",
      "Saved 0926c.csv to the current directory\n",
      "Saved 0919c.csv to the current directory\n",
      "Saved 0912c.csv to the current directory\n",
      "Saved 0905c.csv to the current directory\n",
      "Saved 0829c.csv to the current directory\n",
      "Saved Datac.csv to the current directory\n",
      "Saved Current weekc.csv to the current directory\n",
      "Saved 1031c.csv to the current directory\n",
      "Saved 1024c.csv to the current directory\n",
      "Saved 1017c.csv to the current directory\n",
      "Saved 1010c.csv to the current directory\n",
      "Saved 1003c.csv to the current directory\n",
      "Saved 0926c.csv to the current directory\n",
      "Saved Datac.csv to the current directory\n",
      "Saved Current weekc.csv to the current directory\n",
      "Saved 1128c.csv to the current directory\n",
      "Saved 1122c.csv to the current directory\n",
      "Saved 1114c.csv to the current directory\n",
      "Saved 1107c.csv to the current directory\n",
      "Saved 1031c.csv to the current directory\n",
      "Saved Datac.csv to the current directory\n",
      "Saved Current weekc.csv to the current directory\n",
      "Saved 0102c.csv to the current directory\n",
      "Saved 1226c.csv to the current directory\n",
      "Saved 1219c.csv to the current directory\n",
      "Saved 1212c.csv to the current directory\n",
      "Saved 1205c.csv to the current directory\n",
      "Saved 1128c.csv to the current directory\n",
      "Saved Datac.csv to the current directory\n"
     ]
    }
   ],
   "source": [
    "for file in xlsx_files:\n",
    "    # Check if filename contains \"Tech Planning\"\n",
    "    if \"Tech Planning\" in file:\n",
    "        # Read the Excel file\n",
    "        xls = pd.ExcelFile(file)\n",
    "\n",
    "        # Iterate over each sheet (tab) within the Excel file\n",
    "        for sheet_name in xls.sheet_names:\n",
    "            # Read the sheet into a DataFrame\n",
    "            df = pd.read_excel(xls, sheet_name)\n",
    "\n",
    "            # Generate the CSV file name\n",
    "            csv_filename = f\"{sheet_name}c.csv\"\n",
    "\n",
    "            # Save the DataFrame to a CSV file\n",
    "            df.to_csv(csv_filename, index=False)\n",
    "\n",
    "            print(f\"Saved {csv_filename} to the current directory\")\n",
    "\n",
    "    "
   ]
  },
  {
   "cell_type": "markdown",
   "id": "354b2fb3-0b5c-48c6-bdf1-f171ecb5c8cd",
   "metadata": {},
   "source": [
    "## Leer archivos CSV\n",
    "* Ordenar columnas en todos los csv\n",
    "    * Dropear columna Public\n",
    "* Dropear NA y espacios vacíos (ruido)"
   ]
  },
  {
   "cell_type": "code",
   "execution_count": 5,
   "id": "b5f3a075-2e5e-4eaa-98f5-67f947a1dcdd",
   "metadata": {},
   "outputs": [
    {
     "data": {
      "text/plain": [
       "'\\nLógica\\nimport pandas as pd\\nimport os\\n\\n# Archivos\\npath_files = /csv2023/\\ncsv_files = []\\n\\nfor file in csv2023:\\n    read csv file\\n    drop \"Public\" colum\\n    add to the main df which will be one for all CSV readed\\n\\n'"
      ]
     },
     "execution_count": 5,
     "metadata": {},
     "output_type": "execute_result"
    }
   ],
   "source": [
    "\"\"\"\n",
    "Lógica\n",
    "import pandas as pd\n",
    "import os\n",
    "\n",
    "# Archivos\n",
    "path_files = csv2023/\n",
    "csv_files = []\n",
    "\n",
    "for file in csv2023:\n",
    "    read csv file\n",
    "    drop \"Public\" colum\n",
    "    add to the main df which will be one for all CSV readed\n",
    "\n",
    "print(df col names)\n",
    "print(df.head())\n",
    "print(number of rows on the df)\n",
    "\n",
    "save df as 'df_2023.csv' on current directory\n",
    "\n",
    "\n",
    "\"\"\""
   ]
  },
  {
   "cell_type": "code",
   "execution_count": 6,
   "id": "dfcbea40-0206-4070-a701-2c521907b7ce",
   "metadata": {},
   "outputs": [
    {
     "name": "stdout",
     "output_type": "stream",
     "text": [
      "\n",
      "Column Names:\n",
      "['Client Name', 'Project Name', 'TECH-Mgmt', 'Tech Score', 'RAIDD']\n",
      "\n",
      "First 5 rows:\n",
      "   Client Name            Project Name          TECH-Mgmt Tech Score                                                                                                                                                                                                                                                                                                                                                                                                                                                                                                                                                                                                                                                                                                                                                                                                                                                                                                                                                                                                                                                                                                                                                                                                                                                                                                   RAIDD\n",
      " Apply Digital        Tech Accelerator    Ignacio Miranda    Neutral                                                                                                                                                                                                                                                                                                                                                                                                                                                                                                                                                                                                                                      Development Work:\\nActualizando componentes del Homepage y Catalog según nuevos diseños.\\n\\nRisks:\\n- Ya no tendremos a un QA de E2E, esta tarea se relegó a los mismos devs. Podría implicar retrasos en la implementación.\\n- El equipo dev se verá reducido en 3 integrantes durante las próximas semanas, si no logramos avanzar rápido con los tickets, el desarrollo será muy lento durante Enero, pudiendo no lograr la fecha esperada para entregar el MVP.\\nAssumptions:\\n- N/A\\nIssues:\\n- N/A\\nDecisions:\\n- N/A\\nDependencies:\\n- Dependiendo del avance del equipo, puede que tengamos dependencias de diseño. Por ahora, esto no supone un problema.\n",
      "     Atlassian Knowledge Base Platform Mariana Valdespino    Neutral                                                                                                                                                                                                                                                                                                                                                                                                                                                                                                                                                                                                                                                                                                                                                                                                                                                                                                                                                                                                                                                                                                                                                                                                                                                                                                     NaN\n",
      "Caja Los Andes             TAPP Mobile    Junior Martinez    Neutral                                                                                                                                                                                                                                                                                                                                                                                                                                                                                                                                                                                                                                                                                                                                                                                                                                                                     RISKS:\\n\\n - Se están modificando los figmas y hemos perdido información\\n - Hay funcionalidades aún siendo modificadas que están en el scope \\n\\nASSUMPTIONS:\\n\\nN/A\\n\\nISSUES:\\n\\nN/A\\n\\nDECISIONS:\\n\\nSe hizo una reunión para hacer estimaciones generales para revisar los tiempos y ver qué podríamos tener para la fecha esperada\\n\\nDEPENDENCIES:\\n\\nDocumentación de las funcionalidades de parte del cliente.\\nSDK de TOC\n",
      "Caja Los Andes                TAPP Web        Juan Romero    Neutral                                                                                                                                                                                                                                                                                                                                                                                                                                                                                                                                                                                                                                                                                                                                                                                                                                                                                                                                                                                                                                                                                                               RISKS:\\nN/A\\n\\nASSUMPTIONS:\\nN/A\\n\\nISSUES:\\nN/A\\n\\nDECISIONS:\\nYa que tenemos los repositorios principales creados continuaremos la configuracion de herramientas.\\n\\nDEPENDENCIES:\\nN/A\n",
      "        Curran                     MVP       Daniel Perez    Neutral RISKS:\\n\\n1. Loni y Joe ya no estan en el equipo.\\n2. Posiblemente necesitemos nuevas llaves para el reCAPTCHA en el nuevo sitio de Synsisal.\\n\\nASSUMPTIONS:\\n\\n1. Puede que se generen errores en producción cuando se de live al sitio de Synsisal. Ahora se está usando el endpoint de staging en producción, por lo que puede que tengamos alguna diferencia entre los endpoints.\\n\\nISSUES:\\n\\n1. Existe un issue con la feature de Contentful live preview que no permite ver la actualización del contenido en la ventana de la web app, solo sucede en algunos casos y con un reload suele solventarse, sin embargo, puede generar confusion a los content authors.\\n\\nDECISIONS:\\n\\n1.Se colocó el endpoint de staging en producción para el sitio de Synsisal. ya que aún no se a publicado el sitio y para Thomas es complicado cambiar las URLs para aceptar peticiones y arreglar el error de CORS. Con esto poder hacer pruebas E2E\\n\\n2.Se empezó los tickets relacionados con el Core Web Vitals para mejorar la velocidad del sitio en general\\n\\n3.Se creó un ticket para actualizar varias dependencias de la librería y de NextJS para poder mejorar el tamaño del bundle\\n\\n1. Se decidió dejar el lanzamiento del sitio de Synsisal para inicios de año.\\n\\nDEPENDENCIES:\\n\\nN/A\n",
      "\n",
      "Number of rows: 787\n",
      "\n",
      "Saved merged data to df_2023.csv in the current directory\n"
     ]
    }
   ],
   "source": [
    "# File path\n",
    "path_files = 'csv2023/'\n",
    "\n",
    "# Initialize an empty list to store DataFrames\n",
    "csv_files = []\n",
    "\n",
    "# Iterate through CSV files in the directory\n",
    "for file in os.listdir(path_files):\n",
    "    if file.endswith('.csv'):\n",
    "        filepath = os.path.join(path_files, file)\n",
    "        df = pd.read_csv(filepath)\n",
    "\n",
    "        # Drop the \"Public\" column if it exists\n",
    "        if 'Public' in df.columns:\n",
    "            df.drop('Public', axis=1, inplace=True)\n",
    "\n",
    "        csv_files.append(df)\n",
    "\n",
    "# Concatenate all DataFrames into a single DataFrame\n",
    "merged_df = pd.concat(csv_files, ignore_index=True)\n",
    "\n",
    "# Print information about the merged DataFrame\n",
    "print(\"\\nColumn Names:\")\n",
    "print(merged_df.columns.tolist())\n",
    "\n",
    "print(\"\\nFirst 5 rows:\")\n",
    "print(merged_df.head().to_string(index=False))  # Display without row index\n",
    "\n",
    "print(f\"\\nNumber of rows: {len(merged_df)}\")\n",
    "\n",
    "# Save the merged DataFrame to a CSV file\n",
    "merged_df.to_csv('df_2023.csv', index=False)\n",
    "print(\"\\nSaved merged data to df_2023.csv in the current directory\")\n"
   ]
  },
  {
   "cell_type": "markdown",
   "id": "89e90bd4-6272-4dc0-a879-5eb789f23557",
   "metadata": {},
   "source": [
    "## Preparacion df_2023 para capturar embeddings\n",
    "* Descartar casos que la columna RAIDD sea nulo o len < 20\n",
    "* Descartar todos los '*' y 'N/A'"
   ]
  },
  {
   "cell_type": "code",
   "execution_count": null,
   "id": "ef47dcb5-680e-455d-8ed0-502623bf7474",
   "metadata": {},
   "outputs": [],
   "source": [
    "\"\"\"\n",
    "Logica\n",
    "import pandas as pd\n",
    "import any package needed\n",
    "\n",
    "\n",
    "with open('df_2023.csv' on the current directory):\n",
    "    for row in rows:\n",
    "        if the RAIDD column is empty\n",
    "        or the RAIDD value extension is less than 20 char len\n",
    "            drop the row\n",
    "        and\n",
    "        if RAIDD value have '*'\n",
    "            remove that char each time needed on each row\n",
    "\n",
    "name the df as 'df_curated'\n",
    "print(df_curated num of rows)\n",
    "\n",
    "\"\"\""
   ]
  },
  {
   "cell_type": "code",
   "execution_count": 2,
   "id": "d5a0e5dc-98ff-4ff1-97d3-c2ccd64c3354",
   "metadata": {},
   "outputs": [
    {
     "name": "stdout",
     "output_type": "stream",
     "text": [
      "\n",
      "Number of rows in df_curated: 743\n",
      "\n",
      "Column Names:\n",
      "['Client Name', 'Project Name', 'TECH-Mgmt', 'Tech Score', 'RAIDD']\n",
      "\n",
      "First 5 rows:\n",
      "   Client Name     Project Name       TECH-Mgmt Tech Score                                                                                                                                                                                                                                                                                                                                                                                                                                                                                                                                                                                                                                                                                                                                                                                                                                                                                                                                                                                                                                                                                                                                                                                                                                                                                                                RAIDD\n",
      " Apply Digital Tech Accelerator Ignacio Miranda    Neutral                                                                                                                                                                                                                                                                                                                                                                                                                                                                                                                                                                                                                                                            Development Work:\\nActualizando componentes del Homepage y Catalog según nuevos diseños.\\n\\nRisks:\\n- Ya no tendremos a un QA de E2E, esta tarea se relegó a los mismos devs. Podría implicar retrasos en la implementación.\\n- El equipo dev se verá reducido en 3 integrantes durante las próximas semanas, si no logramos avanzar rápido con los tickets, el desarrollo será muy lento durante Enero, pudiendo no lograr la fecha esperada para entregar el MVP.\\nAssumptions:\\n- \\nIssues:\\n- \\nDecisions:\\n- \\nDependencies:\\n- Dependiendo del avance del equipo, puede que tengamos dependencias de diseño. Por ahora, esto no supone un problema.\n",
      "Caja Los Andes      TAPP Mobile Junior Martinez    Neutral                                                                                                                                                                                                                                                                                                                                                                                                                                                                                                                                                                                                                                                                                                                                                                                                                                                                                        RISKS:\\n\\n - Se están modificando los figmas y hemos perdido información\\n - Hay funcionalidades aún siendo modificadas que están en el scope \\n\\nASSUMPTIONS:\\n\\n\\n\\nISSUES:\\n\\n\\n\\nDECISIONS:\\n\\nSe hizo una reunión para hacer estimaciones generales para revisar los tiempos y ver qué podríamos tener para la fecha esperada\\n\\nDEPENDENCIES:\\n\\nDocumentación de las funcionalidades de parte del cliente.\\nSDK de TOC\n",
      "Caja Los Andes         TAPP Web     Juan Romero    Neutral                                                                                                                                                                                                                                                                                                                                                                                                                                                                                                                                                                                                                                                                                                                                                                                                                                                                                                                                                                                                                                                                                                                                        RISKS:\\n\\n\\nASSUMPTIONS:\\n\\n\\nISSUES:\\n\\n\\nDECISIONS:\\nYa que tenemos los repositorios principales creados continuaremos la configuracion de herramientas.\\n\\nDEPENDENCIES:\\n\n",
      "        Curran              MVP    Daniel Perez    Neutral                 RISKS:\\n\\n1. Loni y Joe ya no estan en el equipo.\\n2. Posiblemente necesitemos nuevas llaves para el reCAPTCHA en el nuevo sitio de Synsisal.\\n\\nASSUMPTIONS:\\n\\n1. Puede que se generen errores en producción cuando se de live al sitio de Synsisal. Ahora se está usando el endpoint de staging en producción, por lo que puede que tengamos alguna diferencia entre los endpoints.\\n\\nISSUES:\\n\\n1. Existe un issue con la feature de Contentful live preview que no permite ver la actualización del contenido en la ventana de la web app, solo sucede en algunos casos y con un reload suele solventarse, sin embargo, puede generar confusion a los content authors.\\n\\nDECISIONS:\\n\\n1.Se colocó el endpoint de staging en producción para el sitio de Synsisal. ya que aún no se a publicado el sitio y para Thomas es complicado cambiar las URLs para aceptar peticiones y arreglar el error de CORS. Con esto poder hacer pruebas E2E\\n\\n2.Se empezó los tickets relacionados con el Core Web Vitals para mejorar la velocidad del sitio en general\\n\\n3.Se creó un ticket para actualizar varias dependencias de la librería y de NextJS para poder mejorar el tamaño del bundle\\n\\n1. Se decidió dejar el lanzamiento del sitio de Synsisal para inicios de año.\\n\\nDEPENDENCIES:\\n\\n\n",
      "       Embonor          APP B2B     Ever Aliaga    Neutral Risks:\\n\\n- Riesgo de subestimación: Subestimar el tiempo o los recursos necesarios para reutilizar o actualizar los servicios existentes.\\n- Riesgo de definición de producto: Dificultades en la definicón del producto por parte del cliente para KyC.\\n\\n Se realizán entrevistas semanales con los equipos técnivos para entender los sistemas actuales.\\n El equipo de producto y UX/UI esta trabajando con el cliente para cerrar las definiciones pendientes.\\n\\nAssumptions:\\n\\n\\n\\nIssues:\\n- Documentación técnica desactualizada. El equipo esta trabajando en actualizarla.\\n- Multiples Gitflows en uso. Se esta trabajando en documentar el más actualizado.\\n- El cliente no tiene una visión clara de los servicios compartidos. Se esta trabajando en un inventario de servicios. \\n\\n\\nDecisions:\\n\\n- Decisión sobre priorización: Determinar qué servicios se deben reutilizar, actualizar o desarrollar desde cero, priorizando según el impacto y la viabilidad.\\n\\nDependencies:\\n\\n- Dependencia de la revisión técnica: La determinación de qué servicios pueden reutilizarse depende de una evaluación técnica exhaustiva.\\n- Dependencia del feedback del cliente: Las decisiones finales sobre el backlog y las prioridades pueden depender de la aprobación y el feedback del cliente.\n"
     ]
    }
   ],
   "source": [
    "# Load the data\n",
    "df = pd.read_csv('df_2023.csv')\n",
    "\n",
    "# Filter out rows where 'RAIDD' is NaN or its length is less than 20\n",
    "df_curated = df.dropna(subset=['RAIDD'])\n",
    "df_curated = df_curated[df_curated['RAIDD'].astype(str).str.len() >= 20]\n",
    "\n",
    "# Clean the 'RAIDD' column\n",
    "df_curated['RAIDD'] = df_curated['RAIDD'].astype(str).str.replace('*', '', regex=False).str.replace('N/A', '', regex=False)\n",
    "\n",
    "# Print the number of rows in the curated DataFrame\n",
    "print(f\"\\nNumber of rows in df_curated: {len(df_curated)}\")\n",
    "\n",
    "# Print the column names\n",
    "print(\"\\nColumn Names:\")\n",
    "print(df_curated.columns.tolist())\n",
    "\n",
    "# Print the first 5 rows\n",
    "print(\"\\nFirst 5 rows:\")\n",
    "print(df_curated.head().to_string(index=False))\n"
   ]
  },
  {
   "cell_type": "code",
   "execution_count": 8,
   "id": "67a93646-3bf3-4164-80df-5258e2425f90",
   "metadata": {},
   "outputs": [
    {
     "name": "stdout",
     "output_type": "stream",
     "text": [
      "\n",
      "Saved curated data to df_curated_2023.csv\n"
     ]
    }
   ],
   "source": [
    "# Save the curated DataFrame to a CSV file\n",
    "df_curated.to_csv('df_curated_2023.csv', index=False)  # You can change the filename if needed\n",
    "print(\"\\nSaved curated data to df_curated_2023.csv\")"
   ]
  },
  {
   "cell_type": "markdown",
   "id": "1528c5b6-5156-4658-9298-0285dd353ffe",
   "metadata": {},
   "source": [
    "## Generando Embeddings "
   ]
  },
  {
   "cell_type": "code",
   "execution_count": 3,
   "id": "3ef97ea8-ea28-4ad8-ba40-37b725ab6e90",
   "metadata": {},
   "outputs": [],
   "source": [
    "import json\n",
    "import time\n",
    "import pandas as pd\n",
    "import torch\n",
    "import numpy as np\n",
    "import pickle\n",
    "from transformers import LlamaForCausalLM, LlamaTokenizer, AutoTokenizer, AutoModelForCausalLM\n",
    "from sentence_transformers import SentenceTransformer\n"
   ]
  },
  {
   "cell_type": "code",
   "execution_count": 4,
   "id": "ed9cc0b5-42e6-4649-857f-2b718766c978",
   "metadata": {},
   "outputs": [
    {
     "name": "stdout",
     "output_type": "stream",
     "text": [
      "Punto de control 1: Datos cargados\n"
     ]
    }
   ],
   "source": [
    "# 1. Load the CSV\n",
    "all_data = pd.read_csv('df_curated_2023.csv', encoding='latin-1')\n",
    "print(\"Punto de control 1: Datos cargados\")\n",
    "\n",
    "# 2. Preprocessing\n",
    "relevant_columns = ['Client Name', 'Project Name', 'TECH-Mgmt', 'Tech Score', 'RAIDD']\n",
    "missing_columns = [col for col in relevant_columns if col not in all_data.columns]\n",
    "if missing_columns:\n",
    "    print(f\"Error: Faltan las siguientes columnas relevantes: {', '.join(missing_columns)}\")\n",
    "else:\n",
    "    all_data['combined_info'] = all_data[relevant_columns].apply(lambda x: ' '.join(x.astype(str)), axis=1)"
   ]
  },
  {
   "cell_type": "code",
   "execution_count": 5,
   "id": "58ffcd6c-fab2-4e5d-bf69-2510ee362c1b",
   "metadata": {},
   "outputs": [
    {
     "name": "stdout",
     "output_type": "stream",
     "text": [
      "Client Name                                          Apply Digital\n",
      "Project Name                                      Tech Accelerator\n",
      "TECH-Mgmt                                          Ignacio Miranda\n",
      "Tech Score                                                 Neutral\n",
      "RAIDD            Development Work:\\nActualizando componentes de...\n",
      "combined_info    Apply Digital Tech Accelerator Ignacio Miranda...\n",
      "Name: 0, dtype: object\n"
     ]
    }
   ],
   "source": [
    "print(all_data.iloc[0])"
   ]
  },
  {
   "cell_type": "code",
   "execution_count": null,
   "id": "023f5f3e-05cf-43b2-bbb3-7e6912862960",
   "metadata": {},
   "outputs": [],
   "source": [
    "\"\"\"\n",
    "Lógica\n",
    "\n",
    "Instanciar dos listados\n",
    "text_list = []\n",
    "embedding_list = [] \n",
    "\n",
    "Tomar todas las observaciones solo de la última columna de 'all_data' llamada 'combined_info', y cada 100:\n",
    "    Aplicar encoder del SentenceModel para obtener embedding de cada fila\n",
    "    \n",
    "    Guardar la observacion (string) en el listado 'text_list' \n",
    "    Guardar el embedding generado en 'embedding_list'\n",
    "    Contar numero de objetos en ambos listados:\n",
    "        Si el número de objetos no es igual entre las listas\n",
    "            print \"n° obj text_list & n° obj embedding_list\"\n",
    "            Break\n",
    "        Todo lo demás:\n",
    "            pass\n",
    "\n",
    "\n",
    "\"\"\""
   ]
  },
  {
   "cell_type": "code",
   "execution_count": 6,
   "id": "d312a19b-8390-416f-9842-09d59118c253",
   "metadata": {},
   "outputs": [],
   "source": [
    "#Instanciar dos listados\n",
    "text_list = []\n",
    "embedding_list = [] \n",
    "chunk_size = 100\n",
    "df = all_data\n",
    "sentence_model = SentenceTransformer(\"all-mpnet-base-v2\") \n"
   ]
  },
  {
   "cell_type": "code",
   "execution_count": 7,
   "id": "eef88fc2-d5bb-4990-a4fc-399501209d98",
   "metadata": {},
   "outputs": [],
   "source": [
    "for i in np.arange(0, df.shape[0], chunk_size):\n",
    "    sample = df.iloc[i:i + chunk_size]\n",
    "    embedding = sentence_model.encode(sample['combined_info'].tolist())\n",
    "    #embedding_list += \n",
    "    for j, emb in enumerate(embedding):\n",
    "        embedding_list.append(emb) \n",
    "        text_list.append(sample['combined_info'].iloc[j])\n",
    "        "
   ]
  },
  {
   "cell_type": "code",
   "execution_count": 8,
   "id": "a6322acc-1874-4601-9a98-a082c3c7de17",
   "metadata": {},
   "outputs": [
    {
     "name": "stdout",
     "output_type": "stream",
     "text": [
      "ok\n"
     ]
    }
   ],
   "source": [
    "if len(text_list) != len(embedding_list):\n",
    "    print(\"oh no\")\n",
    "else:\n",
    "    print(\"ok\")"
   ]
  },
  {
   "cell_type": "code",
   "execution_count": 9,
   "id": "7da62256-4201-4499-9e40-e2fd231674a3",
   "metadata": {},
   "outputs": [
    {
     "data": {
      "text/plain": [
       "'Apply Digital Tech Accelerator Ignacio Miranda Neutral Development Work:\\nActualizando componentes del Homepage y Catalog segÃºn nuevos diseÃ±os.\\n\\nRisks:\\n- Ya no tendremos a un QA de E2E, esta tarea se relegÃ³ a los mismos devs. PodrÃ\\xada implicar retrasos en la implementaciÃ³n.\\n- El equipo dev se verÃ¡ reducido en 3 integrantes durante las prÃ³ximas semanas, si no logramos avanzar rÃ¡pido con los tickets, el desarrollo serÃ¡ muy lento durante Enero, pudiendo no lograr la fecha esperada para entregar el MVP.\\nAssumptions:\\n- \\nIssues:\\n- \\nDecisions:\\n- \\nDependencies:\\n- Dependiendo del avance del equipo, puede que tengamos dependencias de diseÃ±o. Por ahora, esto no supone un problema.'"
      ]
     },
     "execution_count": 9,
     "metadata": {},
     "output_type": "execute_result"
    }
   ],
   "source": [
    "text_list[0]"
   ]
  },
  {
   "cell_type": "code",
   "execution_count": 10,
   "id": "110c55c9-4f9a-4462-81f9-f993388d851c",
   "metadata": {
    "scrolled": true
   },
   "outputs": [
    {
     "data": {
      "text/plain": [
       "array([-5.14389947e-03,  7.64009822e-03, -2.66878493e-02,  7.07004778e-03,\n",
       "       -2.69422540e-03, -5.94576763e-04,  2.10949872e-02,  1.10933827e-02,\n",
       "       -4.40937057e-02, -5.10373600e-02, -2.06781626e-02,  5.23602441e-02,\n",
       "        1.91666428e-02,  1.38251409e-01, -2.60232445e-02, -1.61446515e-03,\n",
       "       -1.82062462e-02,  5.66141643e-02, -6.42292425e-02,  1.35408510e-02,\n",
       "        1.33982124e-02, -1.16844783e-02,  1.97831099e-03,  6.37250580e-03,\n",
       "        1.27978087e-03,  1.16365207e-02, -4.42612544e-03,  1.62626281e-02,\n",
       "        2.08400991e-02, -3.84677909e-02,  5.03156222e-02,  6.71725199e-02,\n",
       "       -5.19155338e-03,  2.97080129e-02,  2.78762968e-06, -3.71768698e-02,\n",
       "       -3.40520442e-02, -1.69863738e-02, -6.50177663e-03,  3.17188278e-02,\n",
       "        3.39679718e-02,  5.02902679e-02, -1.86190363e-02, -4.98610269e-03,\n",
       "       -7.86264893e-03, -3.70574109e-02,  7.65320379e-03,  3.75793912e-02,\n",
       "        2.51237210e-02,  2.56605837e-02, -2.96163838e-03, -9.01989918e-03,\n",
       "        1.30709875e-02, -3.83626930e-02,  1.37434620e-02, -3.02321669e-02,\n",
       "        2.73732585e-03, -8.10719654e-03,  5.62722795e-02,  5.21557778e-03,\n",
       "        1.19157368e-02,  5.99607173e-03,  1.32697225e-02, -2.66851224e-02,\n",
       "        6.61118254e-02,  3.54606584e-02,  4.31843251e-02, -4.93882038e-02,\n",
       "       -6.42220117e-03,  1.95329394e-02,  1.37390969e-02,  1.29742306e-02,\n",
       "        3.19686197e-02,  3.16563286e-02, -7.14069232e-02, -4.96944822e-02,\n",
       "        4.24509263e-03, -2.60037687e-02, -4.08295728e-02, -4.02283594e-02,\n",
       "       -8.38412810e-03,  1.01033337e-02, -3.89359854e-02, -6.33602738e-02,\n",
       "        2.86729541e-02,  4.50504497e-02,  2.94094952e-03, -1.62054617e-02,\n",
       "       -3.62599408e-03,  3.01637575e-02,  6.69319034e-02, -5.37346713e-02,\n",
       "        3.89193706e-02, -1.61994603e-02, -1.50703930e-03,  1.96364932e-02,\n",
       "        1.14159137e-02, -9.25056115e-02, -2.25873813e-02, -1.17754810e-01,\n",
       "       -3.38757671e-02,  1.26255304e-02,  6.57211691e-02,  1.57469586e-02,\n",
       "       -1.87874734e-02, -1.10513521e-02, -1.38255833e-02, -2.89229304e-02,\n",
       "       -2.93254089e-02,  9.39820409e-02,  3.33532989e-02, -2.13137809e-02,\n",
       "       -5.72982579e-02,  1.74594596e-02, -3.45326364e-02,  6.25584275e-03,\n",
       "        3.14837582e-02, -1.29199727e-02, -4.02514357e-03,  2.13917587e-02,\n",
       "        3.67425159e-02,  3.17944400e-02, -1.41646704e-02,  3.69536877e-03,\n",
       "       -4.14113924e-02,  1.12755559e-02, -4.49722074e-02, -5.89416735e-02,\n",
       "       -8.02217424e-03, -6.88330755e-02,  2.86798216e-02, -2.77370065e-02,\n",
       "       -3.02452240e-02,  9.02187917e-03,  1.05361566e-02,  5.00638112e-02,\n",
       "        1.24546820e-02,  5.91263827e-03, -3.48257758e-02, -2.15760432e-02,\n",
       "        4.49898578e-02, -4.26307730e-02, -7.10576773e-02, -4.97707501e-02,\n",
       "        1.71525322e-03,  2.02928558e-02, -1.47930800e-03,  2.75619980e-02,\n",
       "       -1.81509391e-03, -3.84393777e-03,  2.44623367e-02,  7.78416777e-03,\n",
       "       -4.19539474e-02,  1.05456286e-03,  2.64219549e-02,  3.81291807e-02,\n",
       "        4.31087911e-02,  1.78252235e-02, -1.90114360e-02, -1.33981826e-02,\n",
       "        3.60392556e-02,  3.66648380e-03, -1.15687703e-03, -2.19701659e-02,\n",
       "       -2.34681815e-02,  3.55356769e-03, -1.18485163e-03, -2.11056657e-02,\n",
       "       -2.84765605e-02, -4.22633775e-02, -5.37889451e-02,  4.27749800e-03,\n",
       "       -3.58619131e-02,  7.83390701e-02,  4.11621109e-03, -7.20947236e-02,\n",
       "        1.20549724e-02, -4.72632833e-02, -7.00400621e-02,  2.16093156e-02,\n",
       "       -1.61959939e-02, -9.89333466e-02,  1.84009795e-03,  6.88783675e-02,\n",
       "       -1.73707604e-02,  1.16520992e-03, -3.52936238e-02,  5.39185032e-02,\n",
       "       -5.10530211e-02, -3.03705055e-02,  1.31218974e-03, -1.38475550e-02,\n",
       "        2.41974872e-02,  1.20702451e-02,  1.20732933e-02,  4.35859859e-02,\n",
       "       -2.03156229e-02,  2.46890672e-02, -1.16379671e-02, -1.04927709e-02,\n",
       "       -2.47881301e-02, -6.25731423e-02,  7.43725523e-02,  2.56586988e-02,\n",
       "        1.71791892e-02,  7.13395560e-03, -5.00164926e-02, -1.28062442e-02,\n",
       "       -6.56390190e-02,  2.24217884e-02,  7.20175952e-02, -8.18876736e-03,\n",
       "       -3.52216586e-02, -5.08708274e-03, -3.07102390e-02, -4.16560210e-02,\n",
       "        2.58895624e-02,  6.44717887e-02, -8.90113860e-02,  3.59636769e-02,\n",
       "       -1.55867338e-02,  4.76024896e-02,  1.89083219e-02, -1.37181822e-02,\n",
       "        2.65784189e-02, -4.80665937e-02, -7.11483229e-03,  2.67183874e-02,\n",
       "       -4.23545428e-02, -6.78531406e-03, -1.21234898e-02, -3.32729518e-02,\n",
       "        5.04280329e-02, -3.61694419e-03, -5.03988154e-02,  3.82216834e-02,\n",
       "        4.17629555e-02,  3.50299105e-02,  2.92955749e-02, -5.98638803e-02,\n",
       "        2.10324600e-02,  3.03846281e-02,  2.10335534e-02, -1.50858052e-02,\n",
       "        5.51446714e-02, -1.03094503e-02, -2.64053624e-02,  4.92698103e-02,\n",
       "        4.79641110e-02, -2.67415140e-02,  2.10594032e-02, -3.34556471e-03,\n",
       "        1.71497352e-02,  3.65010053e-02,  2.87294202e-02,  1.90514103e-02,\n",
       "       -3.42922844e-02,  4.83981036e-02, -2.75547169e-02, -4.21267673e-02,\n",
       "        5.51035702e-02,  6.95423177e-03, -3.52186430e-03, -1.53387422e-02,\n",
       "        2.22373586e-02,  2.48632580e-02,  4.06069160e-02, -2.72179991e-02,\n",
       "       -6.42668456e-03,  2.09809747e-03,  6.96061878e-03,  9.25118178e-02,\n",
       "       -1.33893201e-02, -1.22509822e-02, -8.65455158e-03, -1.42609887e-02,\n",
       "        3.23960483e-02, -1.16094761e-02, -5.88778965e-02,  1.84369013e-02,\n",
       "        2.85588540e-02, -6.11003190e-02,  5.37353195e-02,  9.74678434e-03,\n",
       "       -5.72217768e-03,  5.54380845e-03,  5.50884046e-02, -6.54998347e-02,\n",
       "       -5.77992052e-02,  4.58122157e-02, -9.52072721e-03,  3.21461796e-03,\n",
       "        2.51519121e-02, -3.39787416e-02, -4.43013711e-03,  1.41770663e-02,\n",
       "        2.56162081e-02,  4.46688905e-02, -4.78599258e-02,  4.95792739e-02,\n",
       "        3.99494059e-02, -2.98483130e-02, -3.54498662e-02, -2.64082383e-02,\n",
       "        5.13310023e-02,  3.60128693e-02, -5.38347429e-03,  2.91797845e-03,\n",
       "        5.21750236e-03,  5.63639700e-02,  1.81786995e-02,  1.85608715e-02,\n",
       "       -3.28910584e-03, -1.98702924e-02,  2.25345208e-03,  2.11978797e-03,\n",
       "        6.43577501e-02, -1.85831767e-02, -1.14811026e-02,  7.28789121e-02,\n",
       "       -1.28322178e-02,  1.18219741e-02,  8.02899059e-03, -4.02205344e-03,\n",
       "       -2.20288779e-03, -6.40650839e-02, -1.34256007e-02, -4.54771817e-02,\n",
       "       -4.54064794e-02, -3.11271567e-02,  2.35566515e-02,  3.73152108e-03,\n",
       "       -3.04614734e-02,  4.17665765e-02,  1.41743384e-02, -8.02436005e-03,\n",
       "       -2.30924021e-02, -1.50082167e-02,  3.68707851e-02, -3.61972116e-02,\n",
       "       -6.16248213e-02, -3.47865634e-02, -8.90758727e-03,  6.82796612e-02,\n",
       "        3.43203247e-02, -1.27667952e-02, -1.85022887e-03,  3.93388309e-02,\n",
       "       -4.30918150e-02,  1.50077837e-02,  9.73241590e-03,  7.16345087e-02,\n",
       "       -8.13766290e-03, -2.65001506e-02, -5.06445579e-03, -2.54972801e-02,\n",
       "       -2.55643856e-02,  1.62318256e-02, -5.32735772e-02, -1.96497850e-02,\n",
       "        1.10510429e-02,  7.35653238e-03,  5.20234071e-02,  1.54846264e-02,\n",
       "       -9.00887996e-02,  5.53815030e-02,  4.53639962e-02,  2.26563476e-02,\n",
       "       -3.32822949e-02, -2.30215751e-02, -6.14493005e-02,  5.09686349e-03,\n",
       "        1.54501991e-02, -9.86038707e-03, -1.59583148e-02, -3.66299152e-02,\n",
       "        8.28261767e-03,  5.32337977e-03, -3.95291410e-02,  1.94345694e-02,\n",
       "        2.61698738e-02, -6.43828362e-02,  4.37117703e-02, -3.34351137e-03,\n",
       "        4.37386408e-02, -2.13886872e-02, -3.01909144e-03, -1.51837347e-02,\n",
       "       -2.92445552e-02,  2.27493979e-02, -1.84164923e-02, -2.68672854e-02,\n",
       "       -4.10636775e-02, -3.36913834e-03, -8.95352289e-03, -5.50011955e-02,\n",
       "        7.86685105e-03,  3.01593598e-02,  3.83056216e-02,  2.79027633e-02,\n",
       "        1.54521139e-02,  3.00090276e-02, -5.11086695e-02, -2.87653250e-03,\n",
       "       -2.61625112e-03, -3.20172757e-02,  4.36485149e-02,  2.56366394e-02,\n",
       "       -2.86330506e-02,  7.29099708e-03,  2.26178188e-02, -1.70940571e-02,\n",
       "        9.62729007e-03, -2.34657228e-02,  3.08942124e-02, -2.69765668e-02,\n",
       "       -8.96112621e-03,  3.09805516e-02,  2.60593686e-02,  1.75183695e-02,\n",
       "        1.63077861e-02,  3.61456722e-02,  2.23124288e-02, -1.15011334e-02,\n",
       "        3.21541689e-02, -3.44704613e-02, -6.47169352e-03,  2.94983998e-04,\n",
       "       -1.52026638e-02, -9.15315613e-05, -4.92467806e-02, -8.43001716e-03,\n",
       "        5.34418738e-03, -1.36914616e-02,  1.97631903e-02, -2.31699869e-02,\n",
       "       -5.71475662e-02,  2.77437530e-02, -5.60318343e-02, -1.89385395e-02,\n",
       "       -1.24748833e-02, -2.74682939e-02,  1.32010341e-01,  5.29726297e-02,\n",
       "       -4.05383557e-02, -3.36616039e-02, -1.80263128e-02, -1.14373285e-02,\n",
       "       -4.56788614e-02,  2.72547472e-02,  3.58525589e-02, -1.90421399e-02,\n",
       "        7.30752647e-02, -7.60714114e-02, -8.47694557e-03, -5.84551319e-02,\n",
       "       -4.81883697e-02, -1.87810343e-02, -2.92128399e-02, -8.38444661e-03,\n",
       "        5.60525618e-02,  6.76192045e-02, -5.12393899e-02, -2.97247432e-02,\n",
       "       -2.85842922e-02, -1.12240270e-01,  5.03785759e-02, -8.57530721e-03,\n",
       "        9.91857518e-03, -1.50558865e-02,  1.73538215e-02, -1.24052856e-02,\n",
       "       -2.25623720e-03, -4.03903145e-03, -1.85700022e-02, -6.97526149e-03,\n",
       "        1.70032233e-02,  4.76101972e-02, -6.94939867e-02, -2.47422531e-02,\n",
       "        6.38471469e-02,  5.38132004e-02,  1.56598806e-04, -5.59243634e-02,\n",
       "       -1.80318821e-02,  5.21536432e-02,  1.14630545e-02, -6.66698115e-03,\n",
       "        4.69445065e-03,  2.54911911e-02, -3.14489603e-02, -2.81411633e-02,\n",
       "       -5.57866273e-03,  6.04177080e-03,  2.74371635e-03, -7.08112717e-02,\n",
       "        8.43163638e-04,  6.47475049e-02,  9.47444700e-03, -1.40831945e-02,\n",
       "        8.88255797e-03, -3.97816719e-03,  2.52599660e-02,  8.36904626e-03,\n",
       "        1.74719114e-02,  2.38511637e-02, -6.90485165e-02, -1.57321040e-02,\n",
       "       -5.14683779e-03, -1.56250186e-02, -7.89790321e-03,  6.29502535e-02,\n",
       "        1.29559478e-02, -2.08237637e-02, -4.24335040e-02,  5.09583689e-02,\n",
       "        4.93800314e-03,  4.94211167e-03,  1.19902696e-02, -2.35387255e-02,\n",
       "        5.02250157e-02, -2.01073494e-02, -2.50852499e-02, -1.04952175e-02,\n",
       "        1.09929554e-02,  4.02072184e-02,  7.90156331e-03,  2.63631959e-02,\n",
       "        2.70514712e-02,  3.00785899e-02, -4.37464379e-02, -5.10583669e-02,\n",
       "       -8.95821601e-02,  7.54370727e-03, -4.45789248e-02,  4.90941443e-02,\n",
       "        5.37076741e-02, -4.84658554e-02, -3.81095819e-02, -6.47084415e-02,\n",
       "       -4.95114438e-02, -1.68263745e-02, -8.10834952e-03,  2.93445680e-03,\n",
       "        7.68075287e-02, -1.68186203e-02,  3.93254422e-02,  1.70806330e-02,\n",
       "        9.17841122e-03, -7.32502621e-03,  3.68809961e-02,  1.56407543e-02,\n",
       "       -8.65285173e-02,  7.37315342e-02,  4.94528213e-04, -7.85420436e-33,\n",
       "        6.35672128e-04, -4.02445681e-02, -2.13484764e-02,  2.18549185e-02,\n",
       "       -3.27666588e-02, -8.82046018e-03, -8.69975891e-03, -7.20926677e-04,\n",
       "       -3.70388851e-03, -6.71080500e-02, -1.74836908e-02, -1.64814591e-02,\n",
       "        3.15970518e-02, -5.07833529e-03, -5.33803646e-03, -4.86284541e-03,\n",
       "        1.91274118e-02, -3.49478243e-04, -5.57430312e-02, -1.51306735e-02,\n",
       "       -1.65805873e-02,  2.73401476e-02,  5.88871725e-03, -2.32372899e-02,\n",
       "       -2.58123521e-02, -2.18663588e-02,  1.21010477e-02,  4.73116059e-03,\n",
       "       -2.36856174e-02,  3.31895947e-02,  1.98900755e-02,  5.89807471e-03,\n",
       "       -2.01927871e-02, -5.03940284e-02, -3.86961154e-03,  3.81131396e-02,\n",
       "       -3.90844829e-02, -3.51691842e-02,  3.62460036e-03,  5.66660203e-02,\n",
       "        4.13788073e-02, -3.31044607e-02,  2.55924594e-02, -6.93577676e-05,\n",
       "       -4.66072746e-02,  4.08764705e-02,  2.73133498e-02, -2.62173954e-02,\n",
       "        2.01602951e-02, -1.91713348e-02, -4.73064519e-02,  1.53209483e-02,\n",
       "        9.06112045e-03,  6.15679435e-02,  1.28586767e-02,  9.66719165e-03,\n",
       "       -2.04073824e-03, -5.75656891e-02, -8.65205936e-03, -1.12143215e-02,\n",
       "       -1.39482683e-02,  3.10703311e-02,  3.94469872e-02, -1.65164042e-02,\n",
       "        2.68908069e-02,  1.81193929e-02, -5.42589650e-03,  2.74284016e-02,\n",
       "        1.93044003e-02, -1.38181485e-02,  5.10895513e-02,  4.07314077e-02,\n",
       "        6.85387803e-03, -3.98154929e-02,  5.40692396e-02, -1.82788614e-02,\n",
       "       -1.75122414e-02,  5.41119576e-02,  2.59423628e-02,  4.28363048e-02,\n",
       "        1.84465514e-03, -6.43633632e-03, -2.10586451e-02,  1.12285686e-03,\n",
       "        1.12816934e-02, -3.28583531e-02, -6.82592392e-02, -5.98701201e-02,\n",
       "        2.21461877e-02,  2.99389120e-02, -2.20645908e-02,  3.58120427e-02,\n",
       "       -1.63782835e-02, -9.90429521e-03,  2.53528189e-02,  2.76503935e-02,\n",
       "        1.35300737e-02, -2.50617252e-03, -3.55475070e-03, -2.79884767e-02,\n",
       "       -6.56601833e-03, -1.47647392e-02, -2.80478671e-02,  7.86353648e-02,\n",
       "       -3.22027109e-03, -2.62504118e-03, -6.87919483e-02,  3.03997230e-02,\n",
       "       -1.52042489e-02,  2.35899072e-02,  1.59184374e-02, -5.48385158e-02,\n",
       "        3.33952382e-02,  2.79264003e-02, -6.36460260e-03,  1.00649046e-02,\n",
       "        9.84898396e-03,  4.28154832e-03,  3.53185809e-03, -4.50976156e-02,\n",
       "       -2.50465644e-04,  1.46362465e-02,  1.61783304e-02,  1.09827658e-02,\n",
       "       -4.07861136e-02,  9.19365138e-03, -2.18968298e-02, -6.92707603e-04,\n",
       "       -7.13729952e-03, -7.26137832e-02, -2.83327084e-02,  2.79412395e-03,\n",
       "        3.49992860e-07, -4.46047299e-02,  1.87284090e-02, -1.62925087e-02,\n",
       "        5.36260642e-02,  2.38223691e-02,  1.40157687e-02, -6.65968657e-02,\n",
       "        3.60890888e-02,  3.82424854e-02,  2.34971065e-02, -3.74737685e-03,\n",
       "       -9.86809004e-03,  4.46838811e-02,  3.38330828e-02,  1.31245228e-02,\n",
       "       -6.74998686e-02,  6.20600954e-02,  2.27335673e-02, -2.93945428e-03,\n",
       "       -4.58477793e-04,  1.41797155e-01, -4.31898981e-03,  7.90199265e-02,\n",
       "       -2.18209671e-03,  3.07954643e-02, -2.20692120e-02, -1.67607963e-02,\n",
       "        2.40111649e-02,  5.58653586e-02, -1.23741133e-02,  3.74132842e-02,\n",
       "        9.02068317e-02, -5.29455692e-02,  5.98683693e-02,  7.49599887e-03,\n",
       "       -2.54692789e-02,  6.38587726e-03,  7.23320767e-02,  2.01313514e-02,\n",
       "        4.08246666e-02,  9.38720182e-02, -9.76305231e-02, -1.57029536e-02,\n",
       "       -2.38092020e-02,  4.54300269e-02,  3.82591113e-02, -4.27747965e-02,\n",
       "        8.85160491e-02, -3.10850814e-02, -4.75457534e-02, -2.02578101e-02,\n",
       "        1.91742778e-02,  1.71024445e-02, -3.02256327e-02, -1.05531933e-02,\n",
       "       -2.74431780e-02, -2.95056757e-02,  3.25001590e-02,  5.16168261e-03,\n",
       "        1.06913708e-01, -4.85296780e-03, -9.64673907e-02,  2.50393339e-02,\n",
       "        4.19404656e-02,  6.33060187e-02, -1.24069126e-02, -4.51588333e-02,\n",
       "        4.53065415e-34, -1.22922845e-02, -3.83448228e-02,  2.81324913e-03,\n",
       "       -8.91731959e-03, -2.05496885e-02, -1.08246384e-02,  2.40127742e-02,\n",
       "       -5.83921038e-02, -8.19336530e-03, -6.97087124e-02, -3.80016863e-02],\n",
       "      dtype=float32)"
      ]
     },
     "execution_count": 10,
     "metadata": {},
     "output_type": "execute_result"
    }
   ],
   "source": [
    "embedding_list[0]"
   ]
  },
  {
   "cell_type": "code",
   "execution_count": 11,
   "id": "868003d8-2075-4847-bfef-97ad8c952db9",
   "metadata": {},
   "outputs": [
    {
     "data": {
      "text/plain": [
       "768"
      ]
     },
     "execution_count": 11,
     "metadata": {},
     "output_type": "execute_result"
    }
   ],
   "source": [
    "len(embedding_list[0])"
   ]
  },
  {
   "cell_type": "code",
   "execution_count": 55,
   "id": "a1693940-600d-4563-a070-255db0fada6d",
   "metadata": {},
   "outputs": [
    {
     "data": {
      "text/plain": [
       "743"
      ]
     },
     "execution_count": 55,
     "metadata": {},
     "output_type": "execute_result"
    }
   ],
   "source": [
    "len(embedding_list)"
   ]
  },
  {
   "cell_type": "code",
   "execution_count": null,
   "id": "b8e72389-3c11-47f8-adf3-5897ca1e9511",
   "metadata": {},
   "outputs": [],
   "source": [
    "\"\"\" \n",
    "Crear un TSV para https://projector.tensorflow.org/\n",
    "\n",
    "Opción 1: Ejemplo de vector de 4 dimensiones\n",
    "\n",
    "0.1\\t0.2\\t0.5\\t0.9\n",
    "0.2\\t0.1\\t5.0\\t0.2\n",
    "0.4\\t0.1\\t7.0\\t0.8\n",
    "\n",
    "for i in embedding_list:\n",
    "    \n",
    "\n",
    "\n",
    "\"\"\""
   ]
  },
  {
   "cell_type": "markdown",
   "id": "b3391a71-90d5-4180-8d2a-128b345c0064",
   "metadata": {},
   "source": [
    "## Dimension Reduction using UMAP"
   ]
  },
  {
   "cell_type": "code",
   "execution_count": 14,
   "id": "bbc6a70a-2bf1-45f5-8ade-a32a1af1f0f4",
   "metadata": {},
   "outputs": [],
   "source": [
    "import numpy as np\n",
    "from sklearn.datasets import load_digits\n",
    "from sklearn.model_selection import train_test_split \n",
    "from sklearn.preprocessing import StandardScaler\n",
    "import matplotlib.pyplot as plt\n",
    "import seaborn as sns\n",
    "import pandas as pd\n",
    "%matplotlib inline"
   ]
  },
  {
   "cell_type": "code",
   "execution_count": 15,
   "id": "f27926c6-a19a-4f73-a2e7-cc64e3e1a532",
   "metadata": {},
   "outputs": [],
   "source": [
    "# Ploting config\n",
    "sns.set(style='white', context='notebook', rc={'figure.figsize':(10,6)})"
   ]
  },
  {
   "cell_type": "code",
   "execution_count": 16,
   "id": "dd3188f2-755a-4f4b-98fd-426f22be81a6",
   "metadata": {},
   "outputs": [],
   "source": [
    "import umap.umap_ as umap "
   ]
  },
  {
   "cell_type": "code",
   "execution_count": 17,
   "id": "6ad904ba-61b8-4424-ac72-010cca9c338e",
   "metadata": {},
   "outputs": [],
   "source": [
    "reducer = umap.UMAP()"
   ]
  },
  {
   "cell_type": "code",
   "execution_count": 18,
   "id": "bc6eb53b-3b8f-4673-87a5-4e69a397eddb",
   "metadata": {},
   "outputs": [],
   "source": [
    "embedding = reducer.fit_transform(embedding_list)"
   ]
  },
  {
   "cell_type": "code",
   "execution_count": 19,
   "id": "f827f68a-a178-4e23-8176-0d5e2c09ec56",
   "metadata": {},
   "outputs": [
    {
     "data": {
      "text/plain": [
       "(743, 2)"
      ]
     },
     "execution_count": 19,
     "metadata": {},
     "output_type": "execute_result"
    }
   ],
   "source": [
    "embedding.shape"
   ]
  },
  {
   "cell_type": "code",
   "execution_count": 96,
   "id": "ab778e1d-7baf-4a8c-847e-03d8429ea438",
   "metadata": {
    "scrolled": true
   },
   "outputs": [
    {
     "data": {
      "image/png": "[encoded data removed]",
      "text/plain": [
       "<Figure size 1000x600 with 1 Axes>"
      ]
     },
     "metadata": {},
     "output_type": "display_data"
    }
   ],
   "source": [
    "plt.scatter(\n",
    "    embedding[:, 0],\n",
    "    embedding[:, 1],\n",
    "    s=1\n",
    ")\n",
    "plt.title('UMAP projection of the embeddings', fontsize=24);"
   ]
  },
  {
   "cell_type": "markdown",
   "id": "169e5a6e-bcd0-44a1-a3bc-6ace1d6fb77a",
   "metadata": {},
   "source": [
    "## Clustering"
   ]
  },
  {
   "cell_type": "code",
   "execution_count": 29,
   "id": "df3aebaf-736f-471a-82f7-babefedd3988",
   "metadata": {},
   "outputs": [],
   "source": [
    "from sklearn.cluster import KMeans"
   ]
  },
  {
   "cell_type": "markdown",
   "id": "5fd57ca0-0c0f-40c8-8e90-dbd3f34ddcd0",
   "metadata": {},
   "source": [
    "El objetivo de k-means es reducir o minimizar la suma de las distancias entre el centroide del cluster y los puntos en él. "
   ]
  },
  {
   "cell_type": "code",
   "execution_count": 93,
   "id": "956d16a5-3ba1-45bb-9ab7-3117898890d1",
   "metadata": {},
   "outputs": [
    {
     "data": {
      "image/png": "[encoded data removed]",
      "text/plain": [
       "<Figure size 800x400 with 1 Axes>"
      ]
     },
     "metadata": {},
     "output_type": "display_data"
    }
   ],
   "source": [
    "import matplotlib.pyplot as plt\n",
    "\n",
    "# Lista para almacenar las inercias para diferentes valores de k\n",
    "inertia = []\n",
    "\n",
    "# Rango de valores de k a probar\n",
    "k_values = range(1, 11)  # Puedes ajustar este rango según tus necesidades\n",
    "\n",
    "# Entrenar el modelo KMeans para cada valor de k y almacenar la inercia\n",
    "for k in k_values:\n",
    "    kmeans = KMeans(n_clusters=k, random_state=0).fit(embedding)\n",
    "    inertia.append(kmeans.inertia_)\n",
    "\n",
    "# Graficar la curva del codo\n",
    "plt.figure(figsize=(8, 4))\n",
    "plt.plot(k_values, inertia, marker='o')\n",
    "plt.title('Método del Codo para la selección de K')\n",
    "plt.xlabel('Número de clústeres (k)')\n",
    "plt.ylabel('Inercia')\n",
    "plt.xticks(k_values)\n",
    "plt.show()"
   ]
  },
  {
   "cell_type": "code",
   "execution_count": 102,
   "id": "0976b14f-7c76-4184-89b3-0cccf5d4ee49",
   "metadata": {},
   "outputs": [],
   "source": [
    "import pandas as pd\n",
    "import matplotlib.pyplot as plt\n",
    "\n",
    "from sklearn.preprocessing import StandardScaler"
   ]
  },
  {
   "cell_type": "code",
   "execution_count": 103,
   "id": "27ccf50d-4dea-4806-b8d1-9fd59c9d2bed",
   "metadata": {},
   "outputs": [],
   "source": [
    "kmeans = KMeans(n_clusters=7, random_state=0).fit(embedding)\n"
   ]
  },
  {
   "cell_type": "code",
   "execution_count": 104,
   "id": "0c0c2258-4c4a-416e-8591-f831d0056f9c",
   "metadata": {
    "scrolled": true
   },
   "outputs": [
    {
     "data": {
      "text/plain": [
       "sklearn.cluster._kmeans.KMeans"
      ]
     },
     "execution_count": 104,
     "metadata": {},
     "output_type": "execute_result"
    }
   ],
   "source": [
    "type(kmeans)"
   ]
  },
  {
   "cell_type": "code",
   "execution_count": 105,
   "id": "5d4c0494-584b-4161-adea-2882c3c19792",
   "metadata": {},
   "outputs": [
    {
     "name": "stdout",
     "output_type": "stream",
     "text": [
      "[[-2.0586686   8.156714  ]\n",
      " [ 1.6388106  -2.0059066 ]\n",
      " [-0.94900554  4.110058  ]\n",
      " [ 2.5967708   9.741884  ]\n",
      " [10.273715    1.0578115 ]\n",
      " [-4.0621047   0.03257465]\n",
      " [ 2.501745    3.30571   ]]\n",
      "[0 2 2 2 3 3 5 1 5 5 2 2 1 1 2 6 2 2 3 3 2 0 3 4 3 3 3 3 3 5 5 1 2 2 2 6 6\n",
      " 6 6 6 2 2 3 3 2 0 0 4 3 3 3 3 3 5 5 1 2 2 2 6 6 6 6 6 2 2 3 3 2 0 0 4 3 3\n",
      " 3 3 3 5 5 1 2 2 2 2 6 6 6 6 2 2 3 3 5 0 0 4 3 3 3 3 3 5 5 1 2 2 6 2 6 6 6\n",
      " 6 2 2 3 5 0 0 3 3 3 3 3 5 5 1 2 2 6 2 6 6 6 6 2 2 3 3 5 0 0 4 3 3 3 3 3 5\n",
      " 5 1 2 2 6 2 6 6 6 6 2 2 3 3 5 0 0 4 3 3 3 3 3 2 5 1 2 6 6 2 6 6 6 6 2 2 3\n",
      " 3 5 0 0 4 3 3 3 3 3 2 5 1 2 2 6 0 6 6 6 6 2 2 3 3 5 0 0 4 3 3 3 3 3 2 5 1\n",
      " 2 2 6 2 6 6 6 6 2 2 3 3 5 0 0 3 3 3 3 3 5 5 1 2 2 6 2 6 6 6 6 2 2 3 3 5 0\n",
      " 0 4 3 3 5 5 1 2 2 6 2 6 6 6 6 2 2 3 3 5 0 0 4 3 3 5 5 2 2 6 6 6 6 6 6 2 3\n",
      " 3 5 0 0 4 2 3 5 5 1 2 2 6 6 6 6 6 2 2 4 2 3 0 0 5 3 2 5 2 5 3 3 1 2 6 6 2\n",
      " 4 2 3 0 0 5 3 2 5 2 5 3 3 1 2 6 6 2 4 2 3 0 0 5 3 2 5 2 5 3 3 1 2 6 6 2 4\n",
      " 2 3 0 0 5 3 2 5 2 5 3 3 1 2 6 2 4 2 3 0 0 5 3 2 5 2 5 3 3 1 2 6 6 2 4 2 3\n",
      " 0 0 5 3 2 5 2 5 3 3 1 2 2 4 2 3 5 3 2 5 2 5 3 3 2 1 5 4 2 3 0 0 5 3 2 5 2\n",
      " 5 3 3 3 1 4 2 3 0 0 5 3 2 5 2 5 3 2 2 2 4 2 3 0 0 5 3 2 5 2 5 3 2 6 2 4 6\n",
      " 2 2 3 0 0 5 3 6 5 2 5 1 6 2 0 4 6 2 2 3 0 0 5 3 2 5 2 5 1 3 2 6 2 2 1 2 0\n",
      " 4 6 2 2 3 0 0 5 3 2 5 2 5 1 3 2 2 2 2 1 1 0 4 6 2 2 3 0 0 5 3 2 5 2 5 1 3\n",
      " 2 6 2 2 1 1 0 4 6 2 2 3 0 0 5 3 2 5 2 5 3 2 6 2 2 1 1 0 4 6 2 2 3 0 0 5 3\n",
      " 2 5 2 5 3 2 6 2 2 1 1 0 4 6 2 2 3 0 0 5 3 2 5 2 5 3 2 6 2 2 1 1 0 4 6 2 2\n",
      " 3 0 0 5 3 2 5 2 5 3 2 6 2 2 1 1 0 4 6 2 2 3 0 0 5 3 2 5 2 5 3 2 6 2 2 1 1\n",
      " 0 4 2 2 2 3 0 0 5 3 2 5 2 5 1 1 3 2 6 2 2 0 2 3 1 5 2 2 6 3 3 2 0 3 4 3 6\n",
      " 3 3 3 5 5 1 2 2 2 6 6 6 6 6 2 2 3 3 2 0 3 4 3 3 3 3 3 2 5 1 2 2 2 6 6 6 6\n",
      " 6 2 2]\n",
      "2454.83544921875\n",
      "9\n"
     ]
    }
   ],
   "source": [
    "print(kmeans.cluster_centers_)  # Imprime las coordenadas de los centroides\n",
    "print(kmeans.labels_)  # Imprime las etiquetas de clúster para cada punto de datos\n",
    "print(kmeans.inertia_)  # Imprime la inercia del modelo\n",
    "print(kmeans.n_iter_)  # Imprime el número de iteraciones"
   ]
  },
  {
   "cell_type": "markdown",
   "id": "cb3f1401-ccab-4775-81e4-445b4864fd7b",
   "metadata": {},
   "source": [
    "## Visualización 2D"
   ]
  },
  {
   "cell_type": "code",
   "execution_count": 106,
   "id": "c3003c1c-6a9d-40e0-a8b6-c93b384e1d5e",
   "metadata": {},
   "outputs": [
    {
     "data": {
      "image/png": "[encoded data removed]",
      "text/plain": [
       "<Figure size 800x400 with 1 Axes>"
      ]
     },
     "metadata": {},
     "output_type": "display_data"
    }
   ],
   "source": [
    "plt.figure(figsize=(8, 4)) \n",
    "plt.scatter(embedding[:, 0], embedding[:, 1], s=3, c=kmeans.labels_, cmap='viridis') \n",
    "plt.scatter(kmeans.cluster_centers_[:, 0], kmeans.cluster_centers_[:,  \n",
    " 1], s=300, c='red', marker='X')  \n",
    "plt.title('UMAP projection of clusters', fontsize=24);\n",
    "\n",
    "plt.show()"
   ]
  },
  {
   "cell_type": "markdown",
   "id": "7f29cd52-ce64-4174-8580-2414cbe8a95e",
   "metadata": {},
   "source": [
    "## Métricas de evaluación\n",
    "* Coeficiente de silueta: Mide qué tan similar es un punto a su propio clúster en comparación con otros clústeres. Un valor alto indica una buena agrupación.\n",
    "* Índice de Davies-Bouldin: Mide la relación entre la dispersión dentro de los clústeres y la separación entre ellos. Un valor bajo indica una buena agrupación.\n"
   ]
  },
  {
   "cell_type": "code",
   "execution_count": 107,
   "id": "d69a0197-5682-4b73-ae40-6b9b73aa882a",
   "metadata": {},
   "outputs": [
    {
     "name": "stdout",
     "output_type": "stream",
     "text": [
      "0.5045601\n",
      "0.613258185701426\n"
     ]
    }
   ],
   "source": [
    "from sklearn.metrics import silhouette_score, davies_bouldin_score\n",
    "\n",
    "print(silhouette_score(embedding, kmeans.labels_))\n",
    "print(davies_bouldin_score(embedding, kmeans.labels_))"
   ]
  },
  {
   "cell_type": "code",
   "execution_count": null,
   "id": "367d6abe-06a5-4e7b-9ead-54c6a31225fe",
   "metadata": {},
   "outputs": [],
   "source": []
  }
 ],
 "metadata": {
  "kernelspec": {
   "display_name": "Python 3 (ipykernel)",
   "language": "python",
   "name": "python3"
  },
  "language_info": {
   "codemirror_mode": {
    "name": "ipython",
    "version": 3
   },
   "file_extension": ".py",
   "mimetype": "text/x-python",
   "name": "python",
   "nbconvert_exporter": "python",
   "pygments_lexer": "ipython3",
   "version": "3.11.9"
  }
 },
 "nbformat": 4,
 "nbformat_minor": 5
}
