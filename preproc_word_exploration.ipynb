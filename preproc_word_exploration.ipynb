{
 "cells": [
  {
   "cell_type": "markdown",
   "id": "1f80da6e-f89b-4ebf-a305-2f6984c5ffb5",
   "metadata": {},
   "source": [
    "# Preprocesamiento de datos\n",
    "Utilizando de referencia guía de Kaggle https://www.kaggle.com/code/edwight/una-gu-a-r-pida-para-la-limpieza-de-texto-usando-l"
   ]
  },
  {
   "cell_type": "markdown",
   "id": "07596fb6-1ed2-486c-8a5c-0d1c0cd8efe0",
   "metadata": {},
   "source": [
    "### Librerías y CSV"
   ]
  },
  {
   "cell_type": "code",
   "execution_count": 15,
   "id": "0069a9a8-21a8-40fa-aa04-d611f1c0d61c",
   "metadata": {},
   "outputs": [],
   "source": [
    "import pandas as pd  \n",
    "import matplotlib.pyplot as plt\n",
    "import re\n",
    "import nltk\n",
    "import string"
   ]
  },
  {
   "cell_type": "code",
   "execution_count": 2,
   "id": "6aba47a2-dbe6-4d30-af4b-a30d8277fe48",
   "metadata": {},
   "outputs": [],
   "source": [
    "df = pd.read_csv('df_2023.csv') "
   ]
  },
  {
   "cell_type": "code",
   "execution_count": 3,
   "id": "0f83e649-0371-4b20-b8f1-f5a93087710d",
   "metadata": {},
   "outputs": [
    {
     "data": {
      "text/html": [
       "<div>\n",
       "<style scoped>\n",
       "    .dataframe tbody tr th:only-of-type {\n",
       "        vertical-align: middle;\n",
       "    }\n",
       "\n",
       "    .dataframe tbody tr th {\n",
       "        vertical-align: top;\n",
       "    }\n",
       "\n",
       "    .dataframe thead th {\n",
       "        text-align: right;\n",
       "    }\n",
       "</style>\n",
       "<table border=\"1\" class=\"dataframe\">\n",
       "  <thead>\n",
       "    <tr style=\"text-align: right;\">\n",
       "      <th></th>\n",
       "      <th>Client Name</th>\n",
       "      <th>Project Name</th>\n",
       "      <th>TECH-Mgmt</th>\n",
       "      <th>Tech Score</th>\n",
       "      <th>RAIDD</th>\n",
       "    </tr>\n",
       "  </thead>\n",
       "  <tbody>\n",
       "    <tr>\n",
       "      <th>0</th>\n",
       "      <td>Apply Digital</td>\n",
       "      <td>Tech Accelerator</td>\n",
       "      <td>Ignacio Miranda</td>\n",
       "      <td>Neutral</td>\n",
       "      <td>Development Work:\\nActualizando componentes de...</td>\n",
       "    </tr>\n",
       "    <tr>\n",
       "      <th>1</th>\n",
       "      <td>Atlassian</td>\n",
       "      <td>Knowledge Base Platform</td>\n",
       "      <td>Mariana Valdespino</td>\n",
       "      <td>Neutral</td>\n",
       "      <td>NaN</td>\n",
       "    </tr>\n",
       "    <tr>\n",
       "      <th>2</th>\n",
       "      <td>Caja Los Andes</td>\n",
       "      <td>TAPP Mobile</td>\n",
       "      <td>Junior Martinez</td>\n",
       "      <td>Neutral</td>\n",
       "      <td>RISKS:\\n\\n - Se están modificando los figmas y...</td>\n",
       "    </tr>\n",
       "    <tr>\n",
       "      <th>3</th>\n",
       "      <td>Caja Los Andes</td>\n",
       "      <td>TAPP Web</td>\n",
       "      <td>Juan Romero</td>\n",
       "      <td>Neutral</td>\n",
       "      <td>RISKS:\\nN/A\\n\\nASSUMPTIONS:\\nN/A\\n\\nISSUES:\\nN...</td>\n",
       "    </tr>\n",
       "    <tr>\n",
       "      <th>4</th>\n",
       "      <td>Curran</td>\n",
       "      <td>MVP</td>\n",
       "      <td>Daniel Perez</td>\n",
       "      <td>Neutral</td>\n",
       "      <td>RISKS:\\n\\n1. Loni y Joe ya no estan en el equi...</td>\n",
       "    </tr>\n",
       "    <tr>\n",
       "      <th>...</th>\n",
       "      <td>...</td>\n",
       "      <td>...</td>\n",
       "      <td>...</td>\n",
       "      <td>...</td>\n",
       "      <td>...</td>\n",
       "    </tr>\n",
       "    <tr>\n",
       "      <th>782</th>\n",
       "      <td>Moderna</td>\n",
       "      <td>SpikeVax</td>\n",
       "      <td>Juan Romero</td>\n",
       "      <td>Neutral</td>\n",
       "      <td>RISKS: \\nN/A\\n\\nASSUMPTIONS:\\nSe espera que pa...</td>\n",
       "    </tr>\n",
       "    <tr>\n",
       "      <th>783</th>\n",
       "      <td>Moderna</td>\n",
       "      <td>Platform</td>\n",
       "      <td>Joaquín Téllez</td>\n",
       "      <td>Neutral</td>\n",
       "      <td>RISKS\\n1. Okta va a eliminar una funcionalidad...</td>\n",
       "    </tr>\n",
       "    <tr>\n",
       "      <th>784</th>\n",
       "      <td>Moderna</td>\n",
       "      <td>Finance</td>\n",
       "      <td>Jhonder Quintero</td>\n",
       "      <td>Neutral</td>\n",
       "      <td>RISKS\\nEl cliente quiere ver los avances en ap...</td>\n",
       "    </tr>\n",
       "    <tr>\n",
       "      <th>785</th>\n",
       "      <td>Harvard</td>\n",
       "      <td>HBS</td>\n",
       "      <td>Rodrigo Flandez</td>\n",
       "      <td>Neutral</td>\n",
       "      <td>RISK\\n- Se está reconstruyendo la libreria de ...</td>\n",
       "    </tr>\n",
       "    <tr>\n",
       "      <th>786</th>\n",
       "      <td>Tishmann</td>\n",
       "      <td>Studio</td>\n",
       "      <td>Rafael Escalona</td>\n",
       "      <td>Neutral</td>\n",
       "      <td>RISKS: \\n1. Queda un mes para entregar el MVP,...</td>\n",
       "    </tr>\n",
       "  </tbody>\n",
       "</table>\n",
       "<p>787 rows × 5 columns</p>\n",
       "</div>"
      ],
      "text/plain": [
       "        Client Name             Project Name           TECH-Mgmt Tech Score  \\\n",
       "0     Apply Digital         Tech Accelerator     Ignacio Miranda    Neutral   \n",
       "1         Atlassian  Knowledge Base Platform  Mariana Valdespino    Neutral   \n",
       "2    Caja Los Andes              TAPP Mobile     Junior Martinez    Neutral   \n",
       "3    Caja Los Andes                 TAPP Web         Juan Romero    Neutral   \n",
       "4            Curran                      MVP        Daniel Perez    Neutral   \n",
       "..              ...                      ...                 ...        ...   \n",
       "782         Moderna                 SpikeVax         Juan Romero    Neutral   \n",
       "783         Moderna                 Platform      Joaquín Téllez    Neutral   \n",
       "784         Moderna                  Finance    Jhonder Quintero    Neutral   \n",
       "785         Harvard                      HBS     Rodrigo Flandez    Neutral   \n",
       "786        Tishmann                   Studio     Rafael Escalona    Neutral   \n",
       "\n",
       "                                                 RAIDD  \n",
       "0    Development Work:\\nActualizando componentes de...  \n",
       "1                                                  NaN  \n",
       "2    RISKS:\\n\\n - Se están modificando los figmas y...  \n",
       "3    RISKS:\\nN/A\\n\\nASSUMPTIONS:\\nN/A\\n\\nISSUES:\\nN...  \n",
       "4    RISKS:\\n\\n1. Loni y Joe ya no estan en el equi...  \n",
       "..                                                 ...  \n",
       "782  RISKS: \\nN/A\\n\\nASSUMPTIONS:\\nSe espera que pa...  \n",
       "783  RISKS\\n1. Okta va a eliminar una funcionalidad...  \n",
       "784  RISKS\\nEl cliente quiere ver los avances en ap...  \n",
       "785  RISK\\n- Se está reconstruyendo la libreria de ...  \n",
       "786  RISKS: \\n1. Queda un mes para entregar el MVP,...  \n",
       "\n",
       "[787 rows x 5 columns]"
      ]
     },
     "execution_count": 3,
     "metadata": {},
     "output_type": "execute_result"
    }
   ],
   "source": [
    "df"
   ]
  },
  {
   "cell_type": "markdown",
   "id": "b3c03faf-3a8c-4d0f-9d0f-781f73118bcd",
   "metadata": {},
   "source": [
    "### Tutorial\n",
    "* (agregado) Eliminar filas con NaN en la columna 'RAIDD'\n",
    "* Eliminar espacios extras y saltos de linea\n",
    "* (agregado por ser ESP) reemplazar vocales con tildes\n",
    "* Eliminar puntuaciones y simbolos\n",
    "* Pasar todo a minuscula"
   ]
  },
  {
   "cell_type": "markdown",
   "id": "9e045e19-cd57-438e-b63c-ba0c712a5ab4",
   "metadata": {},
   "source": [
    "#### Eliminando NaN\n"
   ]
  },
  {
   "cell_type": "code",
   "execution_count": 4,
   "id": "29b1fbe2-00a1-4bd4-a882-c5a08cd8e59b",
   "metadata": {},
   "outputs": [],
   "source": [
    "df.dropna(subset=['RAIDD'], inplace=True)"
   ]
  },
  {
   "cell_type": "code",
   "execution_count": 5,
   "id": "b1803c03-72d9-43a8-9dd9-2e5dacac486d",
   "metadata": {},
   "outputs": [
    {
     "data": {
      "text/html": [
       "<div>\n",
       "<style scoped>\n",
       "    .dataframe tbody tr th:only-of-type {\n",
       "        vertical-align: middle;\n",
       "    }\n",
       "\n",
       "    .dataframe tbody tr th {\n",
       "        vertical-align: top;\n",
       "    }\n",
       "\n",
       "    .dataframe thead th {\n",
       "        text-align: right;\n",
       "    }\n",
       "</style>\n",
       "<table border=\"1\" class=\"dataframe\">\n",
       "  <thead>\n",
       "    <tr style=\"text-align: right;\">\n",
       "      <th></th>\n",
       "      <th>Client Name</th>\n",
       "      <th>Project Name</th>\n",
       "      <th>TECH-Mgmt</th>\n",
       "      <th>Tech Score</th>\n",
       "      <th>RAIDD</th>\n",
       "    </tr>\n",
       "  </thead>\n",
       "  <tbody>\n",
       "    <tr>\n",
       "      <th>0</th>\n",
       "      <td>Apply Digital</td>\n",
       "      <td>Tech Accelerator</td>\n",
       "      <td>Ignacio Miranda</td>\n",
       "      <td>Neutral</td>\n",
       "      <td>Development Work:\\nActualizando componentes de...</td>\n",
       "    </tr>\n",
       "    <tr>\n",
       "      <th>2</th>\n",
       "      <td>Caja Los Andes</td>\n",
       "      <td>TAPP Mobile</td>\n",
       "      <td>Junior Martinez</td>\n",
       "      <td>Neutral</td>\n",
       "      <td>RISKS:\\n\\n - Se están modificando los figmas y...</td>\n",
       "    </tr>\n",
       "    <tr>\n",
       "      <th>3</th>\n",
       "      <td>Caja Los Andes</td>\n",
       "      <td>TAPP Web</td>\n",
       "      <td>Juan Romero</td>\n",
       "      <td>Neutral</td>\n",
       "      <td>RISKS:\\nN/A\\n\\nASSUMPTIONS:\\nN/A\\n\\nISSUES:\\nN...</td>\n",
       "    </tr>\n",
       "    <tr>\n",
       "      <th>4</th>\n",
       "      <td>Curran</td>\n",
       "      <td>MVP</td>\n",
       "      <td>Daniel Perez</td>\n",
       "      <td>Neutral</td>\n",
       "      <td>RISKS:\\n\\n1. Loni y Joe ya no estan en el equi...</td>\n",
       "    </tr>\n",
       "    <tr>\n",
       "      <th>6</th>\n",
       "      <td>Embonor</td>\n",
       "      <td>APP B2B</td>\n",
       "      <td>Ever Aliaga</td>\n",
       "      <td>Neutral</td>\n",
       "      <td>Risks:\\n\\n- Riesgo de subestimación: Subestima...</td>\n",
       "    </tr>\n",
       "    <tr>\n",
       "      <th>...</th>\n",
       "      <td>...</td>\n",
       "      <td>...</td>\n",
       "      <td>...</td>\n",
       "      <td>...</td>\n",
       "      <td>...</td>\n",
       "    </tr>\n",
       "    <tr>\n",
       "      <th>782</th>\n",
       "      <td>Moderna</td>\n",
       "      <td>SpikeVax</td>\n",
       "      <td>Juan Romero</td>\n",
       "      <td>Neutral</td>\n",
       "      <td>RISKS: \\nN/A\\n\\nASSUMPTIONS:\\nSe espera que pa...</td>\n",
       "    </tr>\n",
       "    <tr>\n",
       "      <th>783</th>\n",
       "      <td>Moderna</td>\n",
       "      <td>Platform</td>\n",
       "      <td>Joaquín Téllez</td>\n",
       "      <td>Neutral</td>\n",
       "      <td>RISKS\\n1. Okta va a eliminar una funcionalidad...</td>\n",
       "    </tr>\n",
       "    <tr>\n",
       "      <th>784</th>\n",
       "      <td>Moderna</td>\n",
       "      <td>Finance</td>\n",
       "      <td>Jhonder Quintero</td>\n",
       "      <td>Neutral</td>\n",
       "      <td>RISKS\\nEl cliente quiere ver los avances en ap...</td>\n",
       "    </tr>\n",
       "    <tr>\n",
       "      <th>785</th>\n",
       "      <td>Harvard</td>\n",
       "      <td>HBS</td>\n",
       "      <td>Rodrigo Flandez</td>\n",
       "      <td>Neutral</td>\n",
       "      <td>RISK\\n- Se está reconstruyendo la libreria de ...</td>\n",
       "    </tr>\n",
       "    <tr>\n",
       "      <th>786</th>\n",
       "      <td>Tishmann</td>\n",
       "      <td>Studio</td>\n",
       "      <td>Rafael Escalona</td>\n",
       "      <td>Neutral</td>\n",
       "      <td>RISKS: \\n1. Queda un mes para entregar el MVP,...</td>\n",
       "    </tr>\n",
       "  </tbody>\n",
       "</table>\n",
       "<p>744 rows × 5 columns</p>\n",
       "</div>"
      ],
      "text/plain": [
       "        Client Name      Project Name         TECH-Mgmt Tech Score  \\\n",
       "0     Apply Digital  Tech Accelerator   Ignacio Miranda    Neutral   \n",
       "2    Caja Los Andes       TAPP Mobile   Junior Martinez    Neutral   \n",
       "3    Caja Los Andes          TAPP Web       Juan Romero    Neutral   \n",
       "4            Curran               MVP      Daniel Perez    Neutral   \n",
       "6           Embonor           APP B2B       Ever Aliaga    Neutral   \n",
       "..              ...               ...               ...        ...   \n",
       "782         Moderna          SpikeVax       Juan Romero    Neutral   \n",
       "783         Moderna          Platform    Joaquín Téllez    Neutral   \n",
       "784         Moderna           Finance  Jhonder Quintero    Neutral   \n",
       "785         Harvard               HBS   Rodrigo Flandez    Neutral   \n",
       "786        Tishmann            Studio   Rafael Escalona    Neutral   \n",
       "\n",
       "                                                 RAIDD  \n",
       "0    Development Work:\\nActualizando componentes de...  \n",
       "2    RISKS:\\n\\n - Se están modificando los figmas y...  \n",
       "3    RISKS:\\nN/A\\n\\nASSUMPTIONS:\\nN/A\\n\\nISSUES:\\nN...  \n",
       "4    RISKS:\\n\\n1. Loni y Joe ya no estan en el equi...  \n",
       "6    Risks:\\n\\n- Riesgo de subestimación: Subestima...  \n",
       "..                                                 ...  \n",
       "782  RISKS: \\nN/A\\n\\nASSUMPTIONS:\\nSe espera que pa...  \n",
       "783  RISKS\\n1. Okta va a eliminar una funcionalidad...  \n",
       "784  RISKS\\nEl cliente quiere ver los avances en ap...  \n",
       "785  RISK\\n- Se está reconstruyendo la libreria de ...  \n",
       "786  RISKS: \\n1. Queda un mes para entregar el MVP,...  \n",
       "\n",
       "[744 rows x 5 columns]"
      ]
     },
     "execution_count": 5,
     "metadata": {},
     "output_type": "execute_result"
    }
   ],
   "source": [
    "# En este caso se puede observar que la observacion [1] fue descartada (en comparacion al print de df en el apartado anterior 'Librerias y CSV'\n",
    "df"
   ]
  },
  {
   "cell_type": "markdown",
   "id": "af964bec-7e32-4724-8db4-e0eee35acee3",
   "metadata": {},
   "source": [
    "#### Eliminando espacios extra"
   ]
  },
  {
   "cell_type": "code",
   "execution_count": 6,
   "id": "ae4c8620-0ca3-4f40-8c5a-35800d8061a3",
   "metadata": {},
   "outputs": [
    {
     "data": {
      "text/plain": [
       "'Development Work:\\nActualizando componentes del Homepage y Catalog según nuevos diseños.\\n\\nRisks:\\n- Ya no tendremos a un QA de E2E, esta tarea se relegó a los mismos devs. Podría implicar retrasos en la implementación.\\n- El equipo dev se verá reducido en 3 integrantes durante las próximas semanas, si no logramos avanzar rápido con los tickets, el desarrollo será muy lento durante Enero, pudiendo no lograr la fecha esperada para entregar el MVP.\\nAssumptions:\\n- N/A\\nIssues:\\n- N/A\\nDecisions:\\n- N/A\\nDependencies:\\n- Dependiendo del avance del equipo, puede que tengamos dependencias de diseño. Por ahora, esto no supone un problema.'"
      ]
     },
     "execution_count": 6,
     "metadata": {},
     "output_type": "execute_result"
    }
   ],
   "source": [
    "df['RAIDD'].iloc[0]"
   ]
  },
  {
   "cell_type": "code",
   "execution_count": 7,
   "id": "cef642b0-e3bf-45ec-8636-56e36a387b71",
   "metadata": {},
   "outputs": [],
   "source": [
    "#El tutirial utiliza 'doc' como un string, en este caso sería cada fila de df\n",
    "# Se utiliza la funcion 'clean_text' para luego aplicar mediante lambds a cada fila\n",
    "def clean_text(text):\n",
    "  cleaned_text = re.sub(\"\\s+\", \" \", text)\n",
    "  return cleaned_text\n",
    "\n",
    "df['RAIDD'] = df['RAIDD'].apply(lambda x: clean_text(str(x))) "
   ]
  },
  {
   "cell_type": "code",
   "execution_count": 8,
   "id": "70b29eeb-c759-4591-a388-4667f8d55751",
   "metadata": {},
   "outputs": [
    {
     "data": {
      "text/plain": [
       "0      Development Work: Actualizando componentes del...\n",
       "2      RISKS: - Se están modificando los figmas y hem...\n",
       "3      RISKS: N/A ASSUMPTIONS: N/A ISSUES: N/A DECISI...\n",
       "4      RISKS: 1. Loni y Joe ya no estan en el equipo....\n",
       "6      Risks: - Riesgo de subestimación: Subestimar e...\n",
       "                             ...                        \n",
       "782    RISKS: N/A ASSUMPTIONS: Se espera que para est...\n",
       "783    RISKS 1. Okta va a eliminar una funcionalidad ...\n",
       "784    RISKS El cliente quiere ver los avances en apr...\n",
       "785    RISK - Se está reconstruyendo la libreria de c...\n",
       "786    RISKS: 1. Queda un mes para entregar el MVP, s...\n",
       "Name: RAIDD, Length: 744, dtype: object"
      ]
     },
     "execution_count": 8,
     "metadata": {},
     "output_type": "execute_result"
    }
   ],
   "source": [
    "df['RAIDD']"
   ]
  },
  {
   "cell_type": "markdown",
   "id": "9fb70928-0fcb-4f45-abb5-52f907ec4e9a",
   "metadata": {},
   "source": [
    "#### Reemplazo de Tildes"
   ]
  },
  {
   "cell_type": "code",
   "execution_count": 9,
   "id": "549012a5-afc4-4cd0-882d-141d1a51155b",
   "metadata": {},
   "outputs": [],
   "source": [
    "def limpiar_tilde(texto):\n",
    "\n",
    "  texto = texto.replace('á', 'a')\n",
    "  texto = texto.replace('é', 'e')\n",
    "  texto = texto.replace('í', 'i')\n",
    "  texto = texto.replace('ó', 'o')\n",
    "  texto = texto.replace('ú', 'u')\n",
    "  return texto\n",
    "\n",
    "df['RAIDD'] = df['RAIDD'].astype(str).apply(limpiar_tilde)"
   ]
  },
  {
   "cell_type": "code",
   "execution_count": 11,
   "id": "43ea95af-ca02-4fbf-932f-8a2a972c6106",
   "metadata": {},
   "outputs": [
    {
     "data": {
      "text/plain": [
       "'RISKS: 1. Loni y Joe ya no estan en el equipo. 2. Posiblemente necesitemos nuevas llaves para el reCAPTCHA en el nuevo sitio de Synsisal. ASSUMPTIONS: 1. Puede que se generen errores en produccion cuando se de live al sitio de Synsisal. Ahora se esta usando el endpoint de staging en produccion, por lo que puede que tengamos alguna diferencia entre los endpoints. ISSUES: 1. Existe un issue con la feature de Contentful live preview que no permite ver la actualizacion del contenido en la ventana de la web app, solo sucede en algunos casos y con un reload suele solventarse, sin embargo, puede generar confusion a los content authors. DECISIONS: 1.Se coloco el endpoint de staging en produccion para el sitio de Synsisal. ya que aun no se a publicado el sitio y para Thomas es complicado cambiar las URLs para aceptar peticiones y arreglar el error de CORS. Con esto poder hacer pruebas E2E 2.Se empezo los tickets relacionados con el Core Web Vitals para mejorar la velocidad del sitio en general 3.Se creo un ticket para actualizar varias dependencias de la libreria y de NextJS para poder mejorar el tamaño del bundle 1. Se decidio dejar el lanzamiento del sitio de Synsisal para inicios de año. DEPENDENCIES: N/A'"
      ]
     },
     "execution_count": 11,
     "metadata": {},
     "output_type": "execute_result"
    }
   ],
   "source": [
    "df['RAIDD'].iloc[3]"
   ]
  },
  {
   "cell_type": "markdown",
   "id": "e3876dec-5337-43bc-ade3-a2d02ef0b3af",
   "metadata": {},
   "source": [
    "#### Eliminación de puntuaciones"
   ]
  },
  {
   "cell_type": "code",
   "execution_count": 12,
   "id": "aceb79d1-7c4a-438b-9b21-a72462e7d03b",
   "metadata": {},
   "outputs": [
    {
     "data": {
      "text/plain": [
       "'Risks: - Riesgo de subestimacion: Subestimar el tiempo o los recursos necesarios para reutilizar o actualizar los servicios existentes. - Riesgo de definicion de producto: Dificultades en la definicon del producto por parte del cliente para KyC. * Se realizan entrevistas semanales con los equipos tecnivos para entender los sistemas actuales. * El equipo de producto y UX/UI esta trabajando con el cliente para cerrar las definiciones pendientes. Assumptions: N/A Issues: - Documentacion tecnica desactualizada. El equipo esta trabajando en actualizarla. - Multiples Gitflows en uso. Se esta trabajando en documentar el mas actualizado. - El cliente no tiene una vision clara de los servicios compartidos. Se esta trabajando en un inventario de servicios. Decisions: - Decision sobre priorizacion: Determinar que servicios se deben reutilizar, actualizar o desarrollar desde cero, priorizando segun el impacto y la viabilidad. Dependencies: - Dependencia de la revision tecnica: La determinacion de que servicios pueden reutilizarse depende de una evaluacion tecnica exhaustiva. - Dependencia del feedback del cliente: Las decisiones finales sobre el backlog y las prioridades pueden depender de la aprobacion y el feedback del cliente.'"
      ]
     },
     "execution_count": 12,
     "metadata": {},
     "output_type": "execute_result"
    }
   ],
   "source": [
    "df['RAIDD'].iloc[4]"
   ]
  },
  {
   "cell_type": "code",
   "execution_count": 13,
   "id": "551c5197-34c0-47e2-b27a-605592518d09",
   "metadata": {},
   "outputs": [],
   "source": [
    "def clean_punct(text):\n",
    "  cleaned_text = re.sub(\"[^-9A-Za-z ]\", \"\", text)\n",
    "  return cleaned_text\n",
    "    \n",
    "df['RAIDD'] = df['RAIDD'].apply(lambda x: clean_punct(str(x)))"
   ]
  },
  {
   "cell_type": "code",
   "execution_count": 14,
   "id": "4ac4cab3-10e0-4641-b052-db42ef758069",
   "metadata": {},
   "outputs": [
    {
     "data": {
      "text/plain": [
       "'Risks - Riesgo de subestimacion Subestimar el tiempo o los recursos necesarios para reutilizar o actualizar los servicios existentes - Riesgo de definicion de producto Dificultades en la definicon del producto por parte del cliente para KyC  Se realizan entrevistas semanales con los equipos tecnivos para entender los sistemas actuales  El equipo de producto y UXUI esta trabajando con el cliente para cerrar las definiciones pendientes Assumptions NA Issues - Documentacion tecnica desactualizada El equipo esta trabajando en actualizarla - Multiples Gitflows en uso Se esta trabajando en documentar el mas actualizado - El cliente no tiene una vision clara de los servicios compartidos Se esta trabajando en un inventario de servicios Decisions - Decision sobre priorizacion Determinar que servicios se deben reutilizar actualizar o desarrollar desde cero priorizando segun el impacto y la viabilidad Dependencies - Dependencia de la revision tecnica La determinacion de que servicios pueden reutilizarse depende de una evaluacion tecnica exhaustiva - Dependencia del feedback del cliente Las decisiones finales sobre el backlog y las prioridades pueden depender de la aprobacion y el feedback del cliente'"
      ]
     },
     "execution_count": 14,
     "metadata": {},
     "output_type": "execute_result"
    }
   ],
   "source": [
    "df['RAIDD'].iloc[4]"
   ]
  },
  {
   "cell_type": "markdown",
   "id": "833ec548-ede7-4de6-8055-935f4de4e950",
   "metadata": {},
   "source": [
    "#### Todo a minusculas"
   ]
  },
  {
   "cell_type": "code",
   "execution_count": 16,
   "id": "0fcde597-a934-4957-baa2-96d72563c9e8",
   "metadata": {},
   "outputs": [
    {
     "data": {
      "text/html": [
       "<div>\n",
       "<style scoped>\n",
       "    .dataframe tbody tr th:only-of-type {\n",
       "        vertical-align: middle;\n",
       "    }\n",
       "\n",
       "    .dataframe tbody tr th {\n",
       "        vertical-align: top;\n",
       "    }\n",
       "\n",
       "    .dataframe thead th {\n",
       "        text-align: right;\n",
       "    }\n",
       "</style>\n",
       "<table border=\"1\" class=\"dataframe\">\n",
       "  <thead>\n",
       "    <tr style=\"text-align: right;\">\n",
       "      <th></th>\n",
       "      <th>Client Name</th>\n",
       "      <th>Project Name</th>\n",
       "      <th>TECH-Mgmt</th>\n",
       "      <th>Tech Score</th>\n",
       "      <th>RAIDD</th>\n",
       "    </tr>\n",
       "  </thead>\n",
       "  <tbody>\n",
       "    <tr>\n",
       "      <th>0</th>\n",
       "      <td>Apply Digital</td>\n",
       "      <td>Tech Accelerator</td>\n",
       "      <td>Ignacio Miranda</td>\n",
       "      <td>Neutral</td>\n",
       "      <td>Development Work Actualizando componentes del ...</td>\n",
       "    </tr>\n",
       "    <tr>\n",
       "      <th>2</th>\n",
       "      <td>Caja Los Andes</td>\n",
       "      <td>TAPP Mobile</td>\n",
       "      <td>Junior Martinez</td>\n",
       "      <td>Neutral</td>\n",
       "      <td>RISKS - Se estan modificando los figmas y hemo...</td>\n",
       "    </tr>\n",
       "    <tr>\n",
       "      <th>3</th>\n",
       "      <td>Caja Los Andes</td>\n",
       "      <td>TAPP Web</td>\n",
       "      <td>Juan Romero</td>\n",
       "      <td>Neutral</td>\n",
       "      <td>RISKS NA ASSUMPTIONS NA ISSUES NA DECISIONS Ya...</td>\n",
       "    </tr>\n",
       "    <tr>\n",
       "      <th>4</th>\n",
       "      <td>Curran</td>\n",
       "      <td>MVP</td>\n",
       "      <td>Daniel Perez</td>\n",
       "      <td>Neutral</td>\n",
       "      <td>RISKS  Loni y Joe ya no estan en el equipo  Po...</td>\n",
       "    </tr>\n",
       "    <tr>\n",
       "      <th>6</th>\n",
       "      <td>Embonor</td>\n",
       "      <td>APP B2B</td>\n",
       "      <td>Ever Aliaga</td>\n",
       "      <td>Neutral</td>\n",
       "      <td>Risks - Riesgo de subestimacion Subestimar el ...</td>\n",
       "    </tr>\n",
       "    <tr>\n",
       "      <th>...</th>\n",
       "      <td>...</td>\n",
       "      <td>...</td>\n",
       "      <td>...</td>\n",
       "      <td>...</td>\n",
       "      <td>...</td>\n",
       "    </tr>\n",
       "    <tr>\n",
       "      <th>782</th>\n",
       "      <td>Moderna</td>\n",
       "      <td>SpikeVax</td>\n",
       "      <td>Juan Romero</td>\n",
       "      <td>Neutral</td>\n",
       "      <td>RISKS NA ASSUMPTIONS Se espera que para este s...</td>\n",
       "    </tr>\n",
       "    <tr>\n",
       "      <th>783</th>\n",
       "      <td>Moderna</td>\n",
       "      <td>Platform</td>\n",
       "      <td>Joaquín Téllez</td>\n",
       "      <td>Neutral</td>\n",
       "      <td>RISKS  Okta va a eliminar una funcionalidad qu...</td>\n",
       "    </tr>\n",
       "    <tr>\n",
       "      <th>784</th>\n",
       "      <td>Moderna</td>\n",
       "      <td>Finance</td>\n",
       "      <td>Jhonder Quintero</td>\n",
       "      <td>Neutral</td>\n",
       "      <td>RISKS El cliente quiere ver los avances en apr...</td>\n",
       "    </tr>\n",
       "    <tr>\n",
       "      <th>785</th>\n",
       "      <td>Harvard</td>\n",
       "      <td>HBS</td>\n",
       "      <td>Rodrigo Flandez</td>\n",
       "      <td>Neutral</td>\n",
       "      <td>RISK - Se esta reconstruyendo la libreria de c...</td>\n",
       "    </tr>\n",
       "    <tr>\n",
       "      <th>786</th>\n",
       "      <td>Tishmann</td>\n",
       "      <td>Studio</td>\n",
       "      <td>Rafael Escalona</td>\n",
       "      <td>Neutral</td>\n",
       "      <td>RISKS  Queda un mes para entregar el MVP sin e...</td>\n",
       "    </tr>\n",
       "  </tbody>\n",
       "</table>\n",
       "<p>744 rows × 5 columns</p>\n",
       "</div>"
      ],
      "text/plain": [
       "        Client Name      Project Name         TECH-Mgmt Tech Score  \\\n",
       "0     Apply Digital  Tech Accelerator   Ignacio Miranda    Neutral   \n",
       "2    Caja Los Andes       TAPP Mobile   Junior Martinez    Neutral   \n",
       "3    Caja Los Andes          TAPP Web       Juan Romero    Neutral   \n",
       "4            Curran               MVP      Daniel Perez    Neutral   \n",
       "6           Embonor           APP B2B       Ever Aliaga    Neutral   \n",
       "..              ...               ...               ...        ...   \n",
       "782         Moderna          SpikeVax       Juan Romero    Neutral   \n",
       "783         Moderna          Platform    Joaquín Téllez    Neutral   \n",
       "784         Moderna           Finance  Jhonder Quintero    Neutral   \n",
       "785         Harvard               HBS   Rodrigo Flandez    Neutral   \n",
       "786        Tishmann            Studio   Rafael Escalona    Neutral   \n",
       "\n",
       "                                                 RAIDD  \n",
       "0    Development Work Actualizando componentes del ...  \n",
       "2    RISKS - Se estan modificando los figmas y hemo...  \n",
       "3    RISKS NA ASSUMPTIONS NA ISSUES NA DECISIONS Ya...  \n",
       "4    RISKS  Loni y Joe ya no estan en el equipo  Po...  \n",
       "6    Risks - Riesgo de subestimacion Subestimar el ...  \n",
       "..                                                 ...  \n",
       "782  RISKS NA ASSUMPTIONS Se espera que para este s...  \n",
       "783  RISKS  Okta va a eliminar una funcionalidad qu...  \n",
       "784  RISKS El cliente quiere ver los avances en apr...  \n",
       "785  RISK - Se esta reconstruyendo la libreria de c...  \n",
       "786  RISKS  Queda un mes para entregar el MVP sin e...  \n",
       "\n",
       "[744 rows x 5 columns]"
      ]
     },
     "execution_count": 16,
     "metadata": {},
     "output_type": "execute_result"
    }
   ],
   "source": [
    "df"
   ]
  },
  {
   "cell_type": "code",
   "execution_count": 17,
   "id": "53b24ee8-6e5d-4ea8-bccf-6bfca1eae443",
   "metadata": {},
   "outputs": [],
   "source": [
    "def lowercase_conv(text):\n",
    "\n",
    "  text_clean = \"\".join([i.lower() for i in text if i not in string.punctuation])\n",
    "  return text_clean\n",
    "\n",
    "df['RAIDD'] = df['RAIDD'].apply(lowercase_conv)"
   ]
  },
  {
   "cell_type": "code",
   "execution_count": 19,
   "id": "e981e8a3-db40-4803-9ef4-7df5696a3cf2",
   "metadata": {},
   "outputs": [
    {
     "data": {
      "text/plain": [
       "0      development work actualizando componentes del ...\n",
       "2      risks  se estan modificando los figmas y hemos...\n",
       "3      risks na assumptions na issues na decisions ya...\n",
       "4      risks  loni y joe ya no estan en el equipo  po...\n",
       "6      risks  riesgo de subestimacion subestimar el t...\n",
       "                             ...                        \n",
       "782    risks na assumptions se espera que para este s...\n",
       "783    risks  okta va a eliminar una funcionalidad qu...\n",
       "784    risks el cliente quiere ver los avances en apr...\n",
       "785    risk  se esta reconstruyendo la libreria de co...\n",
       "786    risks  queda un mes para entregar el mvp sin e...\n",
       "Name: RAIDD, Length: 744, dtype: object"
      ]
     },
     "execution_count": 19,
     "metadata": {},
     "output_type": "execute_result"
    }
   ],
   "source": [
    "df['RAIDD']"
   ]
  },
  {
   "cell_type": "markdown",
   "id": "9b92b465-c8c0-45a1-bb8f-dc194e95ea85",
   "metadata": {},
   "source": [
    "## Preguntas\n",
    "* Que va primero, tokenizar o eliminar stopwords? \n",
    "* Al tokenizar es por palabra? Si no es por palabra, como se tokeniza por oracion? \n",
    "* Serviria utilizar \"regexp_tokenize\" como sugiere el tutorial de Kaggle y separar por \"RISKS\", \"ASSUMPTIONS\", etc?\n",
    "* Es generar cluster primero o metodo de codo primero? "
   ]
  },
  {
   "cell_type": "markdown",
   "id": "9adc36b3-90ca-43f5-9bc1-466355dac9a8",
   "metadata": {},
   "source": [
    "### Siguientes pasos\n",
    "* Tokenizar (o stopword)\n",
    "* Stopwords (o tokenizar) \" stop_words = [\"el\", \"la\", \"los\", \"las\", \"un\", \"una\", \"unos\", \"unas\", \"de\", \"del\", \"al\", \"en\", \"con\", \"por\", \"para\", \"a\", \"ante\", \"bajo\", \"cabe\", \"con\", \"contra\", \"de\", \"desde\", \"durante\", \"en\", \"entre\", \"hacia\", \"hasta\", \"mediante\", \"para\", \"por\", \"según\", \"sin\", \"so\", \"sobre\", \"tras\", \"versus\", \"vía\", \"y\", \"o\", \"u\", \"ni\", \"pero\", \"mas\", \"aunque\", \"si\", \"como\", \"porque\", \"que\", \"es\", \"son\", \"soy\", \"eres\", \"somos\", \"sois\", \"estoy\", \"esta\", \"estamos\", \"estais\", \"estan\", \"se\", \"me\", \"te\", \"nos\", \"os\", \"le\", \"les\", \"lo\", \"la\", \"los\", \"las\"] \"\n",
    "* Embeddings\n",
    "* Listado de Embeddings y Strings\n",
    "* UMAP para reducir dimensionalidad\n",
    "* Metodo de codo para definir numero de K\n",
    "* Generar Clusters\n",
    "* Scatterplot 2D\n",
    "* Plotear centroides de cada K\n",
    "* Metricas de evaluacion \" silhouette_score, davies_bouldin_score \"\n",
    "* Analisis de clusters generando wordclouds"
   ]
  },
  {
   "cell_type": "code",
   "execution_count": null,
   "id": "1b49e89f-019e-41bd-936c-ed6420ed8d12",
   "metadata": {},
   "outputs": [],
   "source": []
  }
 ],
 "metadata": {
  "kernelspec": {
   "display_name": "Python 3 (ipykernel)",
   "language": "python",
   "name": "python3"
  },
  "language_info": {
   "codemirror_mode": {
    "name": "ipython",
    "version": 3
   },
   "file_extension": ".py",
   "mimetype": "text/x-python",
   "name": "python",
   "nbconvert_exporter": "python",
   "pygments_lexer": "ipython3",
   "version": "3.11.9"
  }
 },
 "nbformat": 4,
 "nbformat_minor": 5
}
